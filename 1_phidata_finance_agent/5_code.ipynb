{
 "cells": [
  {
   "cell_type": "markdown",
   "id": "1dcdd5e3-b66f-4e08-9206-117c17c578a1",
   "metadata": {
    "execution": {
     "iopub.execute_input": "2024-12-20T11:50:52.122216Z",
     "iopub.status.busy": "2024-12-20T11:50:52.121762Z",
     "iopub.status.idle": "2024-12-20T11:50:52.126956Z",
     "shell.execute_reply": "2024-12-20T11:50:52.126098Z",
     "shell.execute_reply.started": "2024-12-20T11:50:52.122183Z"
    }
   },
   "source": [
    "# An intro to PhiData"
   ]
  },
  {
   "cell_type": "code",
   "execution_count": 2,
   "id": "0e00ad7a",
   "metadata": {
    "execution": {
     "iopub.execute_input": "2024-12-20T11:50:55.226803Z",
     "iopub.status.busy": "2024-12-20T11:50:55.226296Z",
     "iopub.status.idle": "2024-12-20T11:51:09.751297Z",
     "shell.execute_reply": "2024-12-20T11:51:09.750981Z",
     "shell.execute_reply.started": "2024-12-20T11:50:55.226758Z"
    }
   },
   "outputs": [],
   "source": [
    "from phi.agent import Agent\n",
    "from phi.model.openai import OpenAIChat\n",
    "from phi.tools.yfinance import YFinanceTools"
   ]
  },
  {
   "cell_type": "code",
   "execution_count": 3,
   "id": "268ab4cf",
   "metadata": {
    "execution": {
     "iopub.execute_input": "2024-12-20T11:51:14.186551Z",
     "iopub.status.busy": "2024-12-20T11:51:14.185415Z",
     "iopub.status.idle": "2024-12-20T11:51:14.202284Z",
     "shell.execute_reply": "2024-12-20T11:51:14.199717Z",
     "shell.execute_reply.started": "2024-12-20T11:51:14.186509Z"
    }
   },
   "outputs": [],
   "source": [
    "agent = Agent(\n",
    "  model=OpenAIChat(id=\"gpt-4o\"),\n",
    "  tools=[\n",
    "    YFinanceTools(\n",
    "      stock_price=True, \n",
    "      analyst_recommendations=True, \n",
    "      stock_fundamentals=True\n",
    "    )\n",
    "  ],\n",
    "  instructions=\"Use tables to display data.\",\n",
    "  show_tool_calls=True,\n",
    "  markdown=True,\n",
    ")"
   ]
  },
  {
   "cell_type": "code",
   "execution_count": 4,
   "id": "6c9565fe",
   "metadata": {
    "execution": {
     "iopub.execute_input": "2024-12-20T11:51:15.823283Z",
     "iopub.status.busy": "2024-12-20T11:51:15.821744Z",
     "iopub.status.idle": "2024-12-20T11:51:26.600458Z",
     "shell.execute_reply": "2024-12-20T11:51:26.599620Z",
     "shell.execute_reply.started": "2024-12-20T11:51:15.823200Z"
    }
   },
   "outputs": [
    {
     "data": {
      "application/vnd.jupyter.widget-view+json": {
       "model_id": "ea33b6659c764e68b8be6680a7d68dd8",
       "version_major": 2,
       "version_minor": 0
      },
      "text/plain": [
       "Output()"
      ]
     },
     "metadata": {},
     "output_type": "display_data"
    },
    {
     "data": {
      "text/html": [
       "<pre style=\"white-space:pre;overflow-x:auto;line-height:normal;font-family:Menlo,'DejaVu Sans Mono',consolas,'Courier New',monospace\"></pre>\n"
      ],
      "text/plain": []
     },
     "metadata": {},
     "output_type": "display_data"
    }
   ],
   "source": [
    "agent.print_response(\n",
    "  message=\"\"\"\n",
    "  Tell me which of MDB and ESTC is a better pick.\n",
    "  Summarize and show me in tables.\n",
    "  \"\"\",\n",
    "  stream=True\n",
    ")"
   ]
  },
  {
   "cell_type": "markdown",
   "id": "b7a2d056-878c-4a1f-a7d7-04e2b0fa7e36",
   "metadata": {
    "execution": {
     "iopub.execute_input": "2024-12-20T11:53:21.594153Z",
     "iopub.status.busy": "2024-12-20T11:53:21.593839Z",
     "iopub.status.idle": "2024-12-20T11:53:21.596992Z",
     "shell.execute_reply": "2024-12-20T11:53:21.596383Z",
     "shell.execute_reply.started": "2024-12-20T11:53:21.594131Z"
    }
   },
   "source": [
    "## Using Ollama"
   ]
  },
  {
   "cell_type": "code",
   "execution_count": 5,
   "id": "8811075d",
   "metadata": {
    "execution": {
     "iopub.execute_input": "2024-12-20T11:51:29.766327Z",
     "iopub.status.busy": "2024-12-20T11:51:29.765798Z",
     "iopub.status.idle": "2024-12-20T11:51:29.871925Z",
     "shell.execute_reply": "2024-12-20T11:51:29.871582Z",
     "shell.execute_reply.started": "2024-12-20T11:51:29.766280Z"
    }
   },
   "outputs": [],
   "source": [
    "from phi.model.ollama import Ollama"
   ]
  },
  {
   "cell_type": "code",
   "execution_count": 6,
   "id": "6f2c518e",
   "metadata": {
    "execution": {
     "iopub.execute_input": "2024-12-20T11:51:31.079305Z",
     "iopub.status.busy": "2024-12-20T11:51:31.078628Z",
     "iopub.status.idle": "2024-12-20T11:51:31.091023Z",
     "shell.execute_reply": "2024-12-20T11:51:31.090125Z",
     "shell.execute_reply.started": "2024-12-20T11:51:31.079270Z"
    }
   },
   "outputs": [],
   "source": [
    "agent = Agent(\n",
    "  model=Ollama(id=\"llama3.2\"),\n",
    "  tools=[\n",
    "    YFinanceTools(\n",
    "      stock_price=True, \n",
    "      analyst_recommendations=True, \n",
    "      stock_fundamentals=True\n",
    "    )\n",
    "  ],\n",
    "  instructions=\"Use tables to display data.\",\n",
    "  show_tool_calls=True,\n",
    "  markdown=True,\n",
    ")"
   ]
  },
  {
   "cell_type": "code",
   "execution_count": 7,
   "id": "9db89a72",
   "metadata": {
    "execution": {
     "iopub.execute_input": "2024-12-20T11:51:32.845291Z",
     "iopub.status.busy": "2024-12-20T11:51:32.844874Z",
     "iopub.status.idle": "2024-12-20T11:51:41.464498Z",
     "shell.execute_reply": "2024-12-20T11:51:41.463859Z",
     "shell.execute_reply.started": "2024-12-20T11:51:32.845259Z"
    }
   },
   "outputs": [
    {
     "data": {
      "application/vnd.jupyter.widget-view+json": {
       "model_id": "361d5f3fe6bf400e823cf76f0d08e590",
       "version_major": 2,
       "version_minor": 0
      },
      "text/plain": [
       "Output()"
      ]
     },
     "metadata": {},
     "output_type": "display_data"
    },
    {
     "data": {
      "text/html": [
       "<pre style=\"white-space:pre;overflow-x:auto;line-height:normal;font-family:Menlo,'DejaVu Sans Mono',consolas,'Courier New',monospace\"></pre>\n"
      ],
      "text/plain": []
     },
     "metadata": {},
     "output_type": "display_data"
    }
   ],
   "source": [
    "agent.print_response(\n",
    "  message=\"\"\"\n",
    "  Tell me which of MDB and ESTC is a better pick.\n",
    "  Summarize and show me in tables.\n",
    "  \"\"\",\n",
    "  stream=True\n",
    ")"
   ]
  },
  {
   "cell_type": "markdown",
   "id": "d1cca7f7-de7c-4285-a913-7cdc86113922",
   "metadata": {},
   "source": [
    "## Vector database"
   ]
  },
  {
   "cell_type": "code",
   "execution_count": 8,
   "id": "1cd4ca51",
   "metadata": {
    "execution": {
     "iopub.execute_input": "2024-12-20T11:51:48.006196Z",
     "iopub.status.busy": "2024-12-20T11:51:48.005452Z",
     "iopub.status.idle": "2024-12-20T11:51:52.476622Z",
     "shell.execute_reply": "2024-12-20T11:51:52.476247Z",
     "shell.execute_reply.started": "2024-12-20T11:51:48.006161Z"
    }
   },
   "outputs": [],
   "source": [
    "from phi.vectordb.lancedb import LanceDb, SearchType\n",
    "from phi.knowledge.text import TextKnowledgeBase\n",
    "from phi.embedder.ollama import OllamaEmbedder\n",
    "from pathlib import Path"
   ]
  },
  {
   "cell_type": "code",
   "execution_count": 9,
   "id": "0377af7e",
   "metadata": {
    "execution": {
     "iopub.execute_input": "2024-12-20T11:51:58.933006Z",
     "iopub.status.busy": "2024-12-20T11:51:58.932572Z",
     "iopub.status.idle": "2024-12-20T11:51:59.478656Z",
     "shell.execute_reply": "2024-12-20T11:51:59.477833Z",
     "shell.execute_reply.started": "2024-12-20T11:51:58.932974Z"
    }
   },
   "outputs": [],
   "source": [
    "vector_db=LanceDb(\n",
    "  table_name=\"articles\",\n",
    "  uri=\"tmp/lancedb\",\n",
    "  search_type=SearchType.vector,\n",
    "  embedder=OllamaEmbedder(model=\"mxbai-embed-large\"),\n",
    ")"
   ]
  },
  {
   "cell_type": "code",
   "execution_count": 10,
   "id": "5a21c060",
   "metadata": {
    "execution": {
     "iopub.execute_input": "2024-12-20T11:52:01.272246Z",
     "iopub.status.busy": "2024-12-20T11:52:01.271815Z",
     "iopub.status.idle": "2024-12-20T11:52:01.276897Z",
     "shell.execute_reply": "2024-12-20T11:52:01.275943Z",
     "shell.execute_reply.started": "2024-12-20T11:52:01.272214Z"
    }
   },
   "outputs": [],
   "source": [
    "knowledge_base = TextKnowledgeBase(\n",
    "  path=Path(\"docs\"),\n",
    "  vector_db=vector_db,\n",
    "  num_documents=5,\n",
    ")"
   ]
  },
  {
   "cell_type": "code",
   "execution_count": 11,
   "id": "b40a5961",
   "metadata": {
    "execution": {
     "iopub.execute_input": "2024-12-20T11:52:03.116462Z",
     "iopub.status.busy": "2024-12-20T11:52:03.116026Z",
     "iopub.status.idle": "2024-12-20T11:52:03.294294Z",
     "shell.execute_reply": "2024-12-20T11:52:03.293678Z",
     "shell.execute_reply.started": "2024-12-20T11:52:03.116430Z"
    }
   },
   "outputs": [
    {
     "data": {
      "text/html": [
       "<pre style=\"white-space:pre;overflow-x:auto;line-height:normal;font-family:Menlo,'DejaVu Sans Mono',consolas,'Courier New',monospace\"><span style=\"color: #000080; text-decoration-color: #000080\">INFO    </span> Creating collection                                                                                       \n",
       "</pre>\n"
      ],
      "text/plain": [
       "\u001b[34mINFO    \u001b[0m Creating collection                                                                                       \n"
      ]
     },
     "metadata": {},
     "output_type": "display_data"
    },
    {
     "data": {
      "text/html": [
       "<pre style=\"white-space:pre;overflow-x:auto;line-height:normal;font-family:Menlo,'DejaVu Sans Mono',consolas,'Courier New',monospace\"><span style=\"color: #000080; text-decoration-color: #000080\">INFO    </span> Loading knowledge base                                                                                    \n",
       "</pre>\n"
      ],
      "text/plain": [
       "\u001b[34mINFO    \u001b[0m Loading knowledge base                                                                                    \n"
      ]
     },
     "metadata": {},
     "output_type": "display_data"
    },
    {
     "data": {
      "text/html": [
       "<pre style=\"white-space:pre;overflow-x:auto;line-height:normal;font-family:Menlo,'DejaVu Sans Mono',consolas,'Courier New',monospace\"><span style=\"color: #000080; text-decoration-color: #000080\">INFO    </span> Reading: docs/mongo.txt                                                                                   \n",
       "</pre>\n"
      ],
      "text/plain": [
       "\u001b[34mINFO    \u001b[0m Reading: docs/mongo.txt                                                                                   \n"
      ]
     },
     "metadata": {},
     "output_type": "display_data"
    },
    {
     "data": {
      "text/html": [
       "<pre style=\"white-space:pre;overflow-x:auto;line-height:normal;font-family:Menlo,'DejaVu Sans Mono',consolas,'Courier New',monospace\"><span style=\"color: #000080; text-decoration-color: #000080\">INFO    </span> Added <span style=\"color: #008080; text-decoration-color: #008080; font-weight: bold\">1</span> documents to knowledge base                                                                       \n",
       "</pre>\n"
      ],
      "text/plain": [
       "\u001b[34mINFO    \u001b[0m Added \u001b[1;36m1\u001b[0m documents to knowledge base                                                                       \n"
      ]
     },
     "metadata": {},
     "output_type": "display_data"
    }
   ],
   "source": [
    "knowledge_base.load(recreate=False)"
   ]
  },
  {
   "cell_type": "markdown",
   "id": "c42648ca-63e7-4ec1-8d5b-f5b12e935f92",
   "metadata": {},
   "source": [
    "## Knowledge agent"
   ]
  },
  {
   "cell_type": "code",
   "execution_count": 12,
   "id": "a9837b02",
   "metadata": {
    "execution": {
     "iopub.execute_input": "2024-12-20T11:52:04.854301Z",
     "iopub.status.busy": "2024-12-20T11:52:04.853784Z",
     "iopub.status.idle": "2024-12-20T11:52:04.862080Z",
     "shell.execute_reply": "2024-12-20T11:52:04.861065Z",
     "shell.execute_reply.started": "2024-12-20T11:52:04.854265Z"
    }
   },
   "outputs": [],
   "source": [
    "knowledge_agent = Agent(\n",
    "  knowledge=knowledge_base,\n",
    "  search_knowledge=True,\n",
    ")"
   ]
  },
  {
   "cell_type": "code",
   "execution_count": 13,
   "id": "fec48b7c",
   "metadata": {
    "execution": {
     "iopub.execute_input": "2024-12-20T11:52:06.404362Z",
     "iopub.status.busy": "2024-12-20T11:52:06.403806Z",
     "iopub.status.idle": "2024-12-20T11:52:10.228204Z",
     "shell.execute_reply": "2024-12-20T11:52:10.227434Z",
     "shell.execute_reply.started": "2024-12-20T11:52:06.404331Z"
    }
   },
   "outputs": [
    {
     "data": {
      "application/vnd.jupyter.widget-view+json": {
       "model_id": "11d7ae5e9091434fb536305282fab7ec",
       "version_major": 2,
       "version_minor": 0
      },
      "text/plain": [
       "Output()"
      ]
     },
     "metadata": {},
     "output_type": "display_data"
    },
    {
     "data": {
      "text/html": [
       "<pre style=\"white-space:pre;overflow-x:auto;line-height:normal;font-family:Menlo,'DejaVu Sans Mono',consolas,'Courier New',monospace\"></pre>\n"
      ],
      "text/plain": []
     },
     "metadata": {},
     "output_type": "display_data"
    }
   ],
   "source": [
    "knowledge_agent.print_response(\n",
    "  message=\"How is MongoDB doing?\", \n",
    "  stream=True\n",
    ")"
   ]
  },
  {
   "cell_type": "markdown",
   "id": "25f04df4-b228-4bb2-9429-a9f45af014ac",
   "metadata": {},
   "source": [
    "## A team of agents"
   ]
  },
  {
   "cell_type": "code",
   "execution_count": 14,
   "id": "d60f4386",
   "metadata": {
    "execution": {
     "iopub.execute_input": "2024-12-20T11:52:12.250312Z",
     "iopub.status.busy": "2024-12-20T11:52:12.249654Z",
     "iopub.status.idle": "2024-12-20T11:52:12.256764Z",
     "shell.execute_reply": "2024-12-20T11:52:12.255441Z",
     "shell.execute_reply.started": "2024-12-20T11:52:12.250128Z"
    }
   },
   "outputs": [],
   "source": [
    "agent_team = Agent(\n",
    "  team=[agent, knowledge_agent],\n",
    "  instructions=[\"Always include sources\", \"Use tables to display data\"],\n",
    "  show_tool_calls=True,\n",
    "  markdown=True,\n",
    ")"
   ]
  },
  {
   "cell_type": "code",
   "execution_count": 15,
   "id": "f364feac",
   "metadata": {
    "execution": {
     "iopub.execute_input": "2024-12-20T11:52:13.434531Z",
     "iopub.status.busy": "2024-12-20T11:52:13.434030Z",
     "iopub.status.idle": "2024-12-20T11:52:40.859549Z",
     "shell.execute_reply": "2024-12-20T11:52:40.857952Z",
     "shell.execute_reply.started": "2024-12-20T11:52:13.434499Z"
    }
   },
   "outputs": [
    {
     "data": {
      "application/vnd.jupyter.widget-view+json": {
       "model_id": "8809e020a38548909eeba8f72a3b81dc",
       "version_major": 2,
       "version_minor": 0
      },
      "text/plain": [
       "Output()"
      ]
     },
     "metadata": {},
     "output_type": "display_data"
    },
    {
     "data": {
      "text/html": [
       "<pre style=\"white-space:pre;overflow-x:auto;line-height:normal;font-family:Menlo,'DejaVu Sans Mono',consolas,'Courier New',monospace\"></pre>\n"
      ],
      "text/plain": []
     },
     "metadata": {},
     "output_type": "display_data"
    }
   ],
   "source": [
    "agent_team.print_response(\n",
    "  message=\"How is MongoDB doing? In terms of analysts and articles\", \n",
    "  stream=True\n",
    ")"
   ]
  }
 ],
 "metadata": {
  "kernelspec": {
   "display_name": "Python 3 (ipykernel)",
   "language": "python",
   "name": "python3"
  },
  "language_info": {
   "codemirror_mode": {
    "name": "ipython",
    "version": 3
   },
   "file_extension": ".py",
   "mimetype": "text/x-python",
   "name": "python",
   "nbconvert_exporter": "python",
   "pygments_lexer": "ipython3",
   "version": "3.10.12"
  },
  "widgets": {
   "application/vnd.jupyter.widget-state+json": {
    "state": {
     "11d7ae5e9091434fb536305282fab7ec": {
      "model_module": "@jupyter-widgets/output",
      "model_module_version": "1.0.0",
      "model_name": "OutputModel",
      "state": {
       "layout": "IPY_MODEL_c3aadeea114c4e5e8943b8458072cced",
       "outputs": [
        {
         "data": {
          "text/html": "<pre style=\"white-space:pre;overflow-x:auto;line-height:normal;font-family:Menlo,'DejaVu Sans Mono',consolas,'Courier New',monospace\"><span style=\"color: #008000; text-decoration-color: #008000\">▰▰▰▰▰▱▱</span> Thinking...\n<span style=\"color: #008080; text-decoration-color: #008080\">┏━ Message ━━━━━━━━━━━━━━━━━━━━━━━━━━━━━━━━━━━━━━━━━━━━━━━━━━━━━━━━━━━━━━━━━━━━━━━━━━━━━━━━━━━━━━━━━━━━━━━━━━━━━━━┓</span>\n<span style=\"color: #008080; text-decoration-color: #008080\">┃</span>                                                                                                                 <span style=\"color: #008080; text-decoration-color: #008080\">┃</span>\n<span style=\"color: #008080; text-decoration-color: #008080\">┃</span> <span style=\"color: #008000; text-decoration-color: #008000\">How is MongoDB doing?</span>                                                                                           <span style=\"color: #008080; text-decoration-color: #008080\">┃</span>\n<span style=\"color: #008080; text-decoration-color: #008080\">┃</span>                                                                                                                 <span style=\"color: #008080; text-decoration-color: #008080\">┃</span>\n<span style=\"color: #008080; text-decoration-color: #008080\">┗━━━━━━━━━━━━━━━━━━━━━━━━━━━━━━━━━━━━━━━━━━━━━━━━━━━━━━━━━━━━━━━━━━━━━━━━━━━━━━━━━━━━━━━━━━━━━━━━━━━━━━━━━━━━━━━━━┛</span>\n<span style=\"color: #000080; text-decoration-color: #000080\">┏━ Response (3.3s) ━━━━━━━━━━━━━━━━━━━━━━━━━━━━━━━━━━━━━━━━━━━━━━━━━━━━━━━━━━━━━━━━━━━━━━━━━━━━━━━━━━━━━━━━━━━━━━━┓</span>\n<span style=\"color: #000080; text-decoration-color: #000080\">┃</span>                                                                                                                 <span style=\"color: #000080; text-decoration-color: #000080\">┃</span>\n<span style=\"color: #000080; text-decoration-color: #000080\">┃</span> As of late 2023, MongoDB is performing well financially. For its fiscal third quarter, the company reported     <span style=\"color: #000080; text-decoration-color: #000080\">┃</span>\n<span style=\"color: #000080; text-decoration-color: #000080\">┃</span> earnings that surpassed expectations, with a 22% increase in revenue, amounting to $529.4 million, and adjusted <span style=\"color: #000080; text-decoration-color: #000080\">┃</span>\n<span style=\"color: #000080; text-decoration-color: #000080\">┃</span> earnings of $1.16 per share. This exceeded analysts' projections of 67 cents per share on $498 million in       <span style=\"color: #000080; text-decoration-color: #000080\">┃</span>\n<span style=\"color: #000080; text-decoration-color: #000080\">┃</span> sales. Year-over-year sales growth also accelerated for the first time since July 2023. Despite these strong    <span style=\"color: #000080; text-decoration-color: #000080\">┃</span>\n<span style=\"color: #000080; text-decoration-color: #000080\">┃</span> results, MongoDB's stock experienced a 17% decline, closing at $290.90, due in part to a significant increase   <span style=\"color: #000080; text-decoration-color: #000080\">┃</span>\n<span style=\"color: #000080; text-decoration-color: #000080\">┃</span> in the stock price before the earnings report and the announcement of their CFO's impending departure.          <span style=\"color: #000080; text-decoration-color: #000080\">┃</span>\n<span style=\"color: #000080; text-decoration-color: #000080\">┃</span>                                                                                                                 <span style=\"color: #000080; text-decoration-color: #000080\">┃</span>\n<span style=\"color: #000080; text-decoration-color: #000080\">┃</span> Additionally, while their Enterprise Advanced offering drove revenue, their cloud subscription offering, Atlas, <span style=\"color: #000080; text-decoration-color: #000080\">┃</span>\n<span style=\"color: #000080; text-decoration-color: #000080\">┃</span> did not exceed expectations by as significant a margin. The company's CEO mentioned their success in winning    <span style=\"color: #000080; text-decoration-color: #000080\">┃</span>\n<span style=\"color: #000080; text-decoration-color: #000080\">┃</span> new business due to MongoDB's developer data platform's capabilities. MongoDB is also investing in AI offerings <span style=\"color: #000080; text-decoration-color: #000080\">┃</span>\n<span style=\"color: #000080; text-decoration-color: #000080\">┃</span> and legacy app modernization, as their architecture is well-suited for modern applications. The market has been <span style=\"color: #000080; text-decoration-color: #000080\">┃</span>\n<span style=\"color: #000080; text-decoration-color: #000080\">┃</span> a bit volatile for MongoDB, but their foundational business operations and financial growth remain strong.      <span style=\"color: #000080; text-decoration-color: #000080\">┃</span>\n<span style=\"color: #000080; text-decoration-color: #000080\">┃</span>                                                                                                                 <span style=\"color: #000080; text-decoration-color: #000080\">┃</span>\n<span style=\"color: #000080; text-decoration-color: #000080\">┗━━━━━━━━━━━━━━━━━━━━━━━━━━━━━━━━━━━━━━━━━━━━━━━━━━━━━━━━━━━━━━━━━━━━━━━━━━━━━━━━━━━━━━━━━━━━━━━━━━━━━━━━━━━━━━━━━┛</span>\n</pre>\n",
          "text/plain": "\u001b[32m▰▰▰▰▰▱▱\u001b[0m Thinking...\n\u001b[36m┏━\u001b[0m\u001b[36m Message \u001b[0m\u001b[36m━━━━━━━━━━━━━━━━━━━━━━━━━━━━━━━━━━━━━━━━━━━━━━━━━━━━━━━━━━━━━━━━━━━━━━━━━━━━━━━━━━━━━━━━━━━━━━━━━━━━━━\u001b[0m\u001b[36m━┓\u001b[0m\n\u001b[36m┃\u001b[0m                                                                                                                 \u001b[36m┃\u001b[0m\n\u001b[36m┃\u001b[0m \u001b[32mHow is MongoDB doing?\u001b[0m                                                                                           \u001b[36m┃\u001b[0m\n\u001b[36m┃\u001b[0m                                                                                                                 \u001b[36m┃\u001b[0m\n\u001b[36m┗━━━━━━━━━━━━━━━━━━━━━━━━━━━━━━━━━━━━━━━━━━━━━━━━━━━━━━━━━━━━━━━━━━━━━━━━━━━━━━━━━━━━━━━━━━━━━━━━━━━━━━━━━━━━━━━━━┛\u001b[0m\n\u001b[34m┏━\u001b[0m\u001b[34m Response (3.3s) \u001b[0m\u001b[34m━━━━━━━━━━━━━━━━━━━━━━━━━━━━━━━━━━━━━━━━━━━━━━━━━━━━━━━━━━━━━━━━━━━━━━━━━━━━━━━━━━━━━━━━━━━━━━\u001b[0m\u001b[34m━┓\u001b[0m\n\u001b[34m┃\u001b[0m                                                                                                                 \u001b[34m┃\u001b[0m\n\u001b[34m┃\u001b[0m As of late 2023, MongoDB is performing well financially. For its fiscal third quarter, the company reported     \u001b[34m┃\u001b[0m\n\u001b[34m┃\u001b[0m earnings that surpassed expectations, with a 22% increase in revenue, amounting to $529.4 million, and adjusted \u001b[34m┃\u001b[0m\n\u001b[34m┃\u001b[0m earnings of $1.16 per share. This exceeded analysts' projections of 67 cents per share on $498 million in       \u001b[34m┃\u001b[0m\n\u001b[34m┃\u001b[0m sales. Year-over-year sales growth also accelerated for the first time since July 2023. Despite these strong    \u001b[34m┃\u001b[0m\n\u001b[34m┃\u001b[0m results, MongoDB's stock experienced a 17% decline, closing at $290.90, due in part to a significant increase   \u001b[34m┃\u001b[0m\n\u001b[34m┃\u001b[0m in the stock price before the earnings report and the announcement of their CFO's impending departure.          \u001b[34m┃\u001b[0m\n\u001b[34m┃\u001b[0m                                                                                                                 \u001b[34m┃\u001b[0m\n\u001b[34m┃\u001b[0m Additionally, while their Enterprise Advanced offering drove revenue, their cloud subscription offering, Atlas, \u001b[34m┃\u001b[0m\n\u001b[34m┃\u001b[0m did not exceed expectations by as significant a margin. The company's CEO mentioned their success in winning    \u001b[34m┃\u001b[0m\n\u001b[34m┃\u001b[0m new business due to MongoDB's developer data platform's capabilities. MongoDB is also investing in AI offerings \u001b[34m┃\u001b[0m\n\u001b[34m┃\u001b[0m and legacy app modernization, as their architecture is well-suited for modern applications. The market has been \u001b[34m┃\u001b[0m\n\u001b[34m┃\u001b[0m a bit volatile for MongoDB, but their foundational business operations and financial growth remain strong.      \u001b[34m┃\u001b[0m\n\u001b[34m┃\u001b[0m                                                                                                                 \u001b[34m┃\u001b[0m\n\u001b[34m┗━━━━━━━━━━━━━━━━━━━━━━━━━━━━━━━━━━━━━━━━━━━━━━━━━━━━━━━━━━━━━━━━━━━━━━━━━━━━━━━━━━━━━━━━━━━━━━━━━━━━━━━━━━━━━━━━━┛\u001b[0m\n"
         },
         "metadata": {},
         "output_type": "display_data"
        }
       ]
      }
     },
     "361d5f3fe6bf400e823cf76f0d08e590": {
      "model_module": "@jupyter-widgets/output",
      "model_module_version": "1.0.0",
      "model_name": "OutputModel",
      "state": {
       "layout": "IPY_MODEL_f24223f43a6b4c3aadfad379f2ce1237",
       "outputs": [
        {
         "data": {
          "text/html": "<pre style=\"white-space:pre;overflow-x:auto;line-height:normal;font-family:Menlo,'DejaVu Sans Mono',consolas,'Courier New',monospace\"><span style=\"color: #008000; text-decoration-color: #008000\">▰▱▱▱▱▱▱</span> Thinking...\n<span style=\"color: #008080; text-decoration-color: #008080\">┏━ Message ━━━━━━━━━━━━━━━━━━━━━━━━━━━━━━━━━━━━━━━━━━━━━━━━━━━━━━━━━━━━━━━━━━━━━━━━━━━━━━━━━━━━━━━━━━━━━━━━━━━━━━━┓</span>\n<span style=\"color: #008080; text-decoration-color: #008080\">┃</span>                                                                                                                 <span style=\"color: #008080; text-decoration-color: #008080\">┃</span>\n<span style=\"color: #008080; text-decoration-color: #008080\">┃</span>                                                                                                                 <span style=\"color: #008080; text-decoration-color: #008080\">┃</span>\n<span style=\"color: #008080; text-decoration-color: #008080\">┃</span> <span style=\"color: #008000; text-decoration-color: #008000\">  Tell me which of MDB and ESTC is a better pick.</span>                                                               <span style=\"color: #008080; text-decoration-color: #008080\">┃</span>\n<span style=\"color: #008080; text-decoration-color: #008080\">┃</span> <span style=\"color: #008000; text-decoration-color: #008000\">  Summarize and show me in tables.</span>                                                                              <span style=\"color: #008080; text-decoration-color: #008080\">┃</span>\n<span style=\"color: #008080; text-decoration-color: #008080\">┃</span> <span style=\"color: #008000; text-decoration-color: #008000\">  </span>                                                                                                              <span style=\"color: #008080; text-decoration-color: #008080\">┃</span>\n<span style=\"color: #008080; text-decoration-color: #008080\">┃</span>                                                                                                                 <span style=\"color: #008080; text-decoration-color: #008080\">┃</span>\n<span style=\"color: #008080; text-decoration-color: #008080\">┗━━━━━━━━━━━━━━━━━━━━━━━━━━━━━━━━━━━━━━━━━━━━━━━━━━━━━━━━━━━━━━━━━━━━━━━━━━━━━━━━━━━━━━━━━━━━━━━━━━━━━━━━━━━━━━━━━┛</span>\n<span style=\"color: #000080; text-decoration-color: #000080\">┏━ Response (8.1s) ━━━━━━━━━━━━━━━━━━━━━━━━━━━━━━━━━━━━━━━━━━━━━━━━━━━━━━━━━━━━━━━━━━━━━━━━━━━━━━━━━━━━━━━━━━━━━━━┓</span>\n<span style=\"color: #000080; text-decoration-color: #000080\">┃</span>                                                                                                                 <span style=\"color: #000080; text-decoration-color: #000080\">┃</span>\n<span style=\"color: #000080; text-decoration-color: #000080\">┃</span> Running:                                                                                                        <span style=\"color: #000080; text-decoration-color: #000080\">┃</span>\n<span style=\"color: #000080; text-decoration-color: #000080\">┃</span>                                                                                                                 <span style=\"color: #000080; text-decoration-color: #000080\">┃</span>\n<span style=\"color: #000080; text-decoration-color: #000080\">┃</span> <span style=\"color: #808000; text-decoration-color: #808000; font-weight: bold\"> • </span>get_analyst_recommendations(symbol=MDB)                                                                      <span style=\"color: #000080; text-decoration-color: #000080\">┃</span>\n<span style=\"color: #000080; text-decoration-color: #000080\">┃</span> <span style=\"color: #808000; text-decoration-color: #808000; font-weight: bold\"> • </span>get_analyst_recommendations(symbol=ESTC)                                                                     <span style=\"color: #000080; text-decoration-color: #000080\">┃</span>\n<span style=\"color: #000080; text-decoration-color: #000080\">┃</span>                                                                                                                 <span style=\"color: #000080; text-decoration-color: #000080\">┃</span>\n<span style=\"color: #000080; text-decoration-color: #000080\">┃</span> Based on the data, it seems that ESTC is performing better than MDB in terms of price movements. Here's a       <span style=\"color: #000080; text-decoration-color: #000080\">┃</span>\n<span style=\"color: #000080; text-decoration-color: #000080\">┃</span> summary in tables:                                                                                              <span style=\"color: #000080; text-decoration-color: #000080\">┃</span>\n<span style=\"color: #000080; text-decoration-color: #000080\">┃</span>                                                                                                                 <span style=\"color: #000080; text-decoration-color: #000080\">┃</span>\n<span style=\"color: #000080; text-decoration-color: #000080\">┃</span> <span style=\"font-weight: bold\">MDB vs ESTC: Price Movements</span>                                                                                    <span style=\"color: #000080; text-decoration-color: #000080\">┃</span>\n<span style=\"color: #000080; text-decoration-color: #000080\">┃</span>                                                                                                                 <span style=\"color: #000080; text-decoration-color: #000080\">┃</span>\n<span style=\"color: #000080; text-decoration-color: #000080\">┃</span>                                                                                                                 <span style=\"color: #000080; text-decoration-color: #000080\">┃</span>\n<span style=\"color: #000080; text-decoration-color: #000080\">┃</span>  <span style=\"font-weight: bold\"> Period </span> <span style=\"font-weight: bold\"> MDB Strong Buy </span> <span style=\"font-weight: bold\"> MDB Buy </span> <span style=\"font-weight: bold\"> MDB Hold </span> <span style=\"font-weight: bold\"> MDB Sell </span> <span style=\"font-weight: bold\"> MDB Strong Sell </span>                                    <span style=\"color: #000080; text-decoration-color: #000080\">┃</span>\n<span style=\"color: #000080; text-decoration-color: #000080\">┃</span>  ━━━━━━━━━━━━━━━━━━━━━━━━━━━━━━━━━━━━━━━━━━━━━━━━━━━━━━━━━━━━━━━━━━━━━━━━━━━                                    <span style=\"color: #000080; text-decoration-color: #000080\">┃</span>\n<span style=\"color: #000080; text-decoration-color: #000080\">┃</span>   0m       9                18        8          1          0                                                   <span style=\"color: #000080; text-decoration-color: #000080\">┃</span>\n<span style=\"color: #000080; text-decoration-color: #000080\">┃</span>   -1m      10               17        6          1          0                                                   <span style=\"color: #000080; text-decoration-color: #000080\">┃</span>\n<span style=\"color: #000080; text-decoration-color: #000080\">┃</span>   -2m      10               17        5          1          0                                                   <span style=\"color: #000080; text-decoration-color: #000080\">┃</span>\n<span style=\"color: #000080; text-decoration-color: #000080\">┃</span>   -3m      10               16        5          1          0                                                   <span style=\"color: #000080; text-decoration-color: #000080\">┃</span>\n<span style=\"color: #000080; text-decoration-color: #000080\">┃</span>                                                                                                                 <span style=\"color: #000080; text-decoration-color: #000080\">┃</span>\n<span style=\"color: #000080; text-decoration-color: #000080\">┃</span>                                                                                                                 <span style=\"color: #000080; text-decoration-color: #000080\">┃</span>\n<span style=\"color: #000080; text-decoration-color: #000080\">┃</span> <span style=\"font-weight: bold\">ESTC vs MDB: Price Movements</span>                                                                                    <span style=\"color: #000080; text-decoration-color: #000080\">┃</span>\n<span style=\"color: #000080; text-decoration-color: #000080\">┃</span>                                                                                                                 <span style=\"color: #000080; text-decoration-color: #000080\">┃</span>\n<span style=\"color: #000080; text-decoration-color: #000080\">┃</span>                                                                                                                 <span style=\"color: #000080; text-decoration-color: #000080\">┃</span>\n<span style=\"color: #000080; text-decoration-color: #000080\">┃</span>  <span style=\"font-weight: bold\"> Period </span> <span style=\"font-weight: bold\"> ESTC Strong Buy </span> <span style=\"font-weight: bold\"> ESTC Buy </span> <span style=\"font-weight: bold\"> ESTC Hold </span> <span style=\"font-weight: bold\"> ESTC Sell </span> <span style=\"font-weight: bold\"> ESTC Strong Sell </span>                               <span style=\"color: #000080; text-decoration-color: #000080\">┃</span>\n<span style=\"color: #000080; text-decoration-color: #000080\">┃</span>  ━━━━━━━━━━━━━━━━━━━━━━━━━━━━━━━━━━━━━━━━━━━━━━━━━━━━━━━━━━━━━━━━━━━━━━━━━━━━━━━━                               <span style=\"color: #000080; text-decoration-color: #000080\">┃</span>\n<span style=\"color: #000080; text-decoration-color: #000080\">┃</span>   0m       7                 14         7           0           0                                               <span style=\"color: #000080; text-decoration-color: #000080\">┃</span>\n<span style=\"color: #000080; text-decoration-color: #000080\">┃</span>   -1m      6                 14         7           0           0                                               <span style=\"color: #000080; text-decoration-color: #000080\">┃</span>\n<span style=\"color: #000080; text-decoration-color: #000080\">┃</span>   -2m      6                 12         9           0           0                                               <span style=\"color: #000080; text-decoration-color: #000080\">┃</span>\n<span style=\"color: #000080; text-decoration-color: #000080\">┃</span>   -3m      5                 11         11          0           0                                               <span style=\"color: #000080; text-decoration-color: #000080\">┃</span>\n<span style=\"color: #000080; text-decoration-color: #000080\">┃</span>                                                                                                                 <span style=\"color: #000080; text-decoration-color: #000080\">┃</span>\n<span style=\"color: #000080; text-decoration-color: #000080\">┃</span>                                                                                                                 <span style=\"color: #000080; text-decoration-color: #000080\">┃</span>\n<span style=\"color: #000080; text-decoration-color: #000080\">┃</span> Note that the data is based on a limited number of periods and may not be representative of the entire market   <span style=\"color: #000080; text-decoration-color: #000080\">┃</span>\n<span style=\"color: #000080; text-decoration-color: #000080\">┃</span> trend. It's always best to do your own research and consider multiple sources before making investment          <span style=\"color: #000080; text-decoration-color: #000080\">┃</span>\n<span style=\"color: #000080; text-decoration-color: #000080\">┃</span> decisions.                                                                                                      <span style=\"color: #000080; text-decoration-color: #000080\">┃</span>\n<span style=\"color: #000080; text-decoration-color: #000080\">┃</span>                                                                                                                 <span style=\"color: #000080; text-decoration-color: #000080\">┃</span>\n<span style=\"color: #000080; text-decoration-color: #000080\">┗━━━━━━━━━━━━━━━━━━━━━━━━━━━━━━━━━━━━━━━━━━━━━━━━━━━━━━━━━━━━━━━━━━━━━━━━━━━━━━━━━━━━━━━━━━━━━━━━━━━━━━━━━━━━━━━━━┛</span>\n</pre>\n",
          "text/plain": "\u001b[32m▰▱▱▱▱▱▱\u001b[0m Thinking...\n\u001b[36m┏━\u001b[0m\u001b[36m Message \u001b[0m\u001b[36m━━━━━━━━━━━━━━━━━━━━━━━━━━━━━━━━━━━━━━━━━━━━━━━━━━━━━━━━━━━━━━━━━━━━━━━━━━━━━━━━━━━━━━━━━━━━━━━━━━━━━━\u001b[0m\u001b[36m━┓\u001b[0m\n\u001b[36m┃\u001b[0m                                                                                                                 \u001b[36m┃\u001b[0m\n\u001b[36m┃\u001b[0m                                                                                                                 \u001b[36m┃\u001b[0m\n\u001b[36m┃\u001b[0m \u001b[32m  Tell me which of MDB and ESTC is a better pick.\u001b[0m                                                               \u001b[36m┃\u001b[0m\n\u001b[36m┃\u001b[0m \u001b[32m  Summarize and show me in tables.\u001b[0m                                                                              \u001b[36m┃\u001b[0m\n\u001b[36m┃\u001b[0m \u001b[32m  \u001b[0m                                                                                                              \u001b[36m┃\u001b[0m\n\u001b[36m┃\u001b[0m                                                                                                                 \u001b[36m┃\u001b[0m\n\u001b[36m┗━━━━━━━━━━━━━━━━━━━━━━━━━━━━━━━━━━━━━━━━━━━━━━━━━━━━━━━━━━━━━━━━━━━━━━━━━━━━━━━━━━━━━━━━━━━━━━━━━━━━━━━━━━━━━━━━━┛\u001b[0m\n\u001b[34m┏━\u001b[0m\u001b[34m Response (8.1s) \u001b[0m\u001b[34m━━━━━━━━━━━━━━━━━━━━━━━━━━━━━━━━━━━━━━━━━━━━━━━━━━━━━━━━━━━━━━━━━━━━━━━━━━━━━━━━━━━━━━━━━━━━━━\u001b[0m\u001b[34m━┓\u001b[0m\n\u001b[34m┃\u001b[0m                                                                                                                 \u001b[34m┃\u001b[0m\n\u001b[34m┃\u001b[0m Running:                                                                                                        \u001b[34m┃\u001b[0m\n\u001b[34m┃\u001b[0m                                                                                                                 \u001b[34m┃\u001b[0m\n\u001b[34m┃\u001b[0m \u001b[1;33m • \u001b[0mget_analyst_recommendations(symbol=MDB)                                                                      \u001b[34m┃\u001b[0m\n\u001b[34m┃\u001b[0m \u001b[1;33m • \u001b[0mget_analyst_recommendations(symbol=ESTC)                                                                     \u001b[34m┃\u001b[0m\n\u001b[34m┃\u001b[0m                                                                                                                 \u001b[34m┃\u001b[0m\n\u001b[34m┃\u001b[0m Based on the data, it seems that ESTC is performing better than MDB in terms of price movements. Here's a       \u001b[34m┃\u001b[0m\n\u001b[34m┃\u001b[0m summary in tables:                                                                                              \u001b[34m┃\u001b[0m\n\u001b[34m┃\u001b[0m                                                                                                                 \u001b[34m┃\u001b[0m\n\u001b[34m┃\u001b[0m \u001b[1mMDB vs ESTC: Price Movements\u001b[0m                                                                                    \u001b[34m┃\u001b[0m\n\u001b[34m┃\u001b[0m                                                                                                                 \u001b[34m┃\u001b[0m\n\u001b[34m┃\u001b[0m                                                                                                                 \u001b[34m┃\u001b[0m\n\u001b[34m┃\u001b[0m  \u001b[1m \u001b[0m\u001b[1mPeriod\u001b[0m\u001b[1m \u001b[0m \u001b[1m \u001b[0m\u001b[1mMDB Strong Buy\u001b[0m\u001b[1m \u001b[0m \u001b[1m \u001b[0m\u001b[1mMDB Buy\u001b[0m\u001b[1m \u001b[0m \u001b[1m \u001b[0m\u001b[1mMDB Hold\u001b[0m\u001b[1m \u001b[0m \u001b[1m \u001b[0m\u001b[1mMDB Sell\u001b[0m\u001b[1m \u001b[0m \u001b[1m \u001b[0m\u001b[1mMDB Strong Sell\u001b[0m\u001b[1m \u001b[0m                                    \u001b[34m┃\u001b[0m\n\u001b[34m┃\u001b[0m  ━━━━━━━━━━━━━━━━━━━━━━━━━━━━━━━━━━━━━━━━━━━━━━━━━━━━━━━━━━━━━━━━━━━━━━━━━━━                                    \u001b[34m┃\u001b[0m\n\u001b[34m┃\u001b[0m   0m       9                18        8          1          0                                                   \u001b[34m┃\u001b[0m\n\u001b[34m┃\u001b[0m   -1m      10               17        6          1          0                                                   \u001b[34m┃\u001b[0m\n\u001b[34m┃\u001b[0m   -2m      10               17        5          1          0                                                   \u001b[34m┃\u001b[0m\n\u001b[34m┃\u001b[0m   -3m      10               16        5          1          0                                                   \u001b[34m┃\u001b[0m\n\u001b[34m┃\u001b[0m                                                                                                                 \u001b[34m┃\u001b[0m\n\u001b[34m┃\u001b[0m                                                                                                                 \u001b[34m┃\u001b[0m\n\u001b[34m┃\u001b[0m \u001b[1mESTC vs MDB: Price Movements\u001b[0m                                                                                    \u001b[34m┃\u001b[0m\n\u001b[34m┃\u001b[0m                                                                                                                 \u001b[34m┃\u001b[0m\n\u001b[34m┃\u001b[0m                                                                                                                 \u001b[34m┃\u001b[0m\n\u001b[34m┃\u001b[0m  \u001b[1m \u001b[0m\u001b[1mPeriod\u001b[0m\u001b[1m \u001b[0m \u001b[1m \u001b[0m\u001b[1mESTC Strong Buy\u001b[0m\u001b[1m \u001b[0m \u001b[1m \u001b[0m\u001b[1mESTC Buy\u001b[0m\u001b[1m \u001b[0m \u001b[1m \u001b[0m\u001b[1mESTC Hold\u001b[0m\u001b[1m \u001b[0m \u001b[1m \u001b[0m\u001b[1mESTC Sell\u001b[0m\u001b[1m \u001b[0m \u001b[1m \u001b[0m\u001b[1mESTC Strong Sell\u001b[0m\u001b[1m \u001b[0m                               \u001b[34m┃\u001b[0m\n\u001b[34m┃\u001b[0m  ━━━━━━━━━━━━━━━━━━━━━━━━━━━━━━━━━━━━━━━━━━━━━━━━━━━━━━━━━━━━━━━━━━━━━━━━━━━━━━━━                               \u001b[34m┃\u001b[0m\n\u001b[34m┃\u001b[0m   0m       7                 14         7           0           0                                               \u001b[34m┃\u001b[0m\n\u001b[34m┃\u001b[0m   -1m      6                 14         7           0           0                                               \u001b[34m┃\u001b[0m\n\u001b[34m┃\u001b[0m   -2m      6                 12         9           0           0                                               \u001b[34m┃\u001b[0m\n\u001b[34m┃\u001b[0m   -3m      5                 11         11          0           0                                               \u001b[34m┃\u001b[0m\n\u001b[34m┃\u001b[0m                                                                                                                 \u001b[34m┃\u001b[0m\n\u001b[34m┃\u001b[0m                                                                                                                 \u001b[34m┃\u001b[0m\n\u001b[34m┃\u001b[0m Note that the data is based on a limited number of periods and may not be representative of the entire market   \u001b[34m┃\u001b[0m\n\u001b[34m┃\u001b[0m trend. It's always best to do your own research and consider multiple sources before making investment          \u001b[34m┃\u001b[0m\n\u001b[34m┃\u001b[0m decisions.                                                                                                      \u001b[34m┃\u001b[0m\n\u001b[34m┃\u001b[0m                                                                                                                 \u001b[34m┃\u001b[0m\n\u001b[34m┗━━━━━━━━━━━━━━━━━━━━━━━━━━━━━━━━━━━━━━━━━━━━━━━━━━━━━━━━━━━━━━━━━━━━━━━━━━━━━━━━━━━━━━━━━━━━━━━━━━━━━━━━━━━━━━━━━┛\u001b[0m\n"
         },
         "metadata": {},
         "output_type": "display_data"
        }
       ]
      }
     },
     "770c94b5b77a4346b451c89c13f569f1": {
      "model_module": "@jupyter-widgets/base",
      "model_module_version": "2.0.0",
      "model_name": "LayoutModel",
      "state": {}
     },
     "8809e020a38548909eeba8f72a3b81dc": {
      "model_module": "@jupyter-widgets/output",
      "model_module_version": "1.0.0",
      "model_name": "OutputModel",
      "state": {
       "layout": "IPY_MODEL_9f8b2282d290459f9536c445bb0f2568",
       "outputs": [
        {
         "data": {
          "text/html": "<pre style=\"white-space:pre;overflow-x:auto;line-height:normal;font-family:Menlo,'DejaVu Sans Mono',consolas,'Courier New',monospace\"><span style=\"color: #008000; text-decoration-color: #008000\">▰▰▱▱▱▱▱</span> Thinking...\n<span style=\"color: #008080; text-decoration-color: #008080\">┏━ Message ━━━━━━━━━━━━━━━━━━━━━━━━━━━━━━━━━━━━━━━━━━━━━━━━━━━━━━━━━━━━━━━━━━━━━━━━━━━━━━━━━━━━━━━━━━━━━━━━━━━━━━━┓</span>\n<span style=\"color: #008080; text-decoration-color: #008080\">┃</span>                                                                                                                 <span style=\"color: #008080; text-decoration-color: #008080\">┃</span>\n<span style=\"color: #008080; text-decoration-color: #008080\">┃</span> <span style=\"color: #008000; text-decoration-color: #008000\">How is MongoDB doing? In terms of analysts and articles</span>                                                         <span style=\"color: #008080; text-decoration-color: #008080\">┃</span>\n<span style=\"color: #008080; text-decoration-color: #008080\">┃</span>                                                                                                                 <span style=\"color: #008080; text-decoration-color: #008080\">┃</span>\n<span style=\"color: #008080; text-decoration-color: #008080\">┗━━━━━━━━━━━━━━━━━━━━━━━━━━━━━━━━━━━━━━━━━━━━━━━━━━━━━━━━━━━━━━━━━━━━━━━━━━━━━━━━━━━━━━━━━━━━━━━━━━━━━━━━━━━━━━━━━┛</span>\n<span style=\"color: #000080; text-decoration-color: #000080\">┏━ Response (26.9s) ━━━━━━━━━━━━━━━━━━━━━━━━━━━━━━━━━━━━━━━━━━━━━━━━━━━━━━━━━━━━━━━━━━━━━━━━━━━━━━━━━━━━━━━━━━━━━━┓</span>\n<span style=\"color: #000080; text-decoration-color: #000080\">┃</span>                                                                                                                 <span style=\"color: #000080; text-decoration-color: #000080\">┃</span>\n<span style=\"color: #000080; text-decoration-color: #000080\">┃</span> Running:                                                                                                        <span style=\"color: #000080; text-decoration-color: #000080\">┃</span>\n<span style=\"color: #000080; text-decoration-color: #000080\">┃</span>                                                                                                                 <span style=\"color: #000080; text-decoration-color: #000080\">┃</span>\n<span style=\"color: #000080; text-decoration-color: #000080\">┃</span> <span style=\"color: #808000; text-decoration-color: #808000; font-weight: bold\"> • </span>transfer_task_to_agent_0(task_description=Fetch the latest analyst recommendations and stock price targets   <span style=\"color: #000080; text-decoration-color: #000080\">┃</span>\n<span style=\"color: #000080; text-decoration-color: #000080\">┃</span> <span style=\"color: #808000; text-decoration-color: #808000; font-weight: bold\">   </span>for MongoDB (MDB)., expected_output=A summary of the latest analyst recommendations and price targets for    <span style=\"color: #000080; text-decoration-color: #000080\">┃</span>\n<span style=\"color: #000080; text-decoration-color: #000080\">┃</span> <span style=\"color: #808000; text-decoration-color: #808000; font-weight: bold\">   </span>MongoDB., additional_information=Focus on recent changes and consensus among analysts.)                      <span style=\"color: #000080; text-decoration-color: #000080\">┃</span>\n<span style=\"color: #000080; text-decoration-color: #000080\">┃</span> <span style=\"color: #808000; text-decoration-color: #808000; font-weight: bold\"> • </span>transfer_task_to_agent_1(task_description=..., expected_output=A summary of recent articles and news about   <span style=\"color: #000080; text-decoration-color: #000080\">┃</span>\n<span style=\"color: #000080; text-decoration-color: #000080\">┃</span> <span style=\"color: #808000; text-decoration-color: #808000; font-weight: bold\">   </span>MongoDB's market performance and strategic developments., additional_information=Include insights from       <span style=\"color: #000080; text-decoration-color: #000080\">┃</span>\n<span style=\"color: #000080; text-decoration-color: #000080\">┃</span> <span style=\"color: #808000; text-decoration-color: #808000; font-weight: bold\">   </span>articles published within the last 3 months.)                                                                <span style=\"color: #000080; text-decoration-color: #000080\">┃</span>\n<span style=\"color: #000080; text-decoration-color: #000080\">┃</span>                                                                                                                 <span style=\"color: #000080; text-decoration-color: #000080\">┃</span>\n<span style=\"color: #000080; text-decoration-color: #000080\">┃</span> Here's a comprehensive overview of MongoDB's current state based on analyst recommendations and recent news     <span style=\"color: #000080; text-decoration-color: #000080\">┃</span>\n<span style=\"color: #000080; text-decoration-color: #000080\">┃</span> articles:                                                                                                       <span style=\"color: #000080; text-decoration-color: #000080\">┃</span>\n<span style=\"color: #000080; text-decoration-color: #000080\">┃</span>                                                                                                                 <span style=\"color: #000080; text-decoration-color: #000080\">┃</span>\n<span style=\"color: #000080; text-decoration-color: #000080\">┃</span>                                             <span style=\"font-weight: bold\">Analyst Recommendations</span>                                             <span style=\"color: #000080; text-decoration-color: #000080\">┃</span>\n<span style=\"color: #000080; text-decoration-color: #000080\">┃</span>                                                                                                                 <span style=\"color: #000080; text-decoration-color: #000080\">┃</span>\n<span style=\"color: #000080; text-decoration-color: #000080\">┃</span> MongoDB (MDB) has been receiving a variety of recommendations from analysts:                                    <span style=\"color: #000080; text-decoration-color: #000080\">┃</span>\n<span style=\"color: #000080; text-decoration-color: #000080\">┃</span>                                                                                                                 <span style=\"color: #000080; text-decoration-color: #000080\">┃</span>\n<span style=\"color: #000080; text-decoration-color: #000080\">┃</span> <span style=\"color: #808000; text-decoration-color: #808000; font-weight: bold\"> • </span><span style=\"font-weight: bold\">Overall Consensus</span>: There are strong buy and buy recommendations predominating, indicating positive sentiment <span style=\"color: #000080; text-decoration-color: #000080\">┃</span>\n<span style=\"color: #000080; text-decoration-color: #000080\">┃</span> <span style=\"color: #808000; text-decoration-color: #808000; font-weight: bold\">   </span>from analysts overall:                                                                                       <span style=\"color: #000080; text-decoration-color: #000080\">┃</span>\n<span style=\"color: #000080; text-decoration-color: #000080\">┃</span> <span style=\"color: #808000; text-decoration-color: #808000; font-weight: bold\">    • </span><span style=\"font-weight: bold\">Strong Buy</span>: 9 to 10 recommendations over the last few time intervals.                                     <span style=\"color: #000080; text-decoration-color: #000080\">┃</span>\n<span style=\"color: #000080; text-decoration-color: #000080\">┃</span> <span style=\"color: #808000; text-decoration-color: #808000; font-weight: bold\">    • </span><span style=\"font-weight: bold\">Buy</span>: 17 to 18 recommendations, showing consistent optimism.                                               <span style=\"color: #000080; text-decoration-color: #000080\">┃</span>\n<span style=\"color: #000080; text-decoration-color: #000080\">┃</span> <span style=\"color: #808000; text-decoration-color: #808000; font-weight: bold\">    • </span><span style=\"font-weight: bold\">Hold and Sell</span>: There are fewer hold and recent sell recommendations, suggesting varying individual        <span style=\"color: #000080; text-decoration-color: #000080\">┃</span>\n<span style=\"color: #000080; text-decoration-color: #000080\">┃</span> <span style=\"color: #808000; text-decoration-color: #808000; font-weight: bold\">      </span>evaluations.                                                                                              <span style=\"color: #000080; text-decoration-color: #000080\">┃</span>\n<span style=\"color: #000080; text-decoration-color: #000080\">┃</span> <span style=\"color: #808000; text-decoration-color: #808000; font-weight: bold\"> • </span><span style=\"font-weight: bold\">Stock Price Target</span>: The recent consensus price target is $245.00.                                            <span style=\"color: #000080; text-decoration-color: #000080\">┃</span>\n<span style=\"color: #000080; text-decoration-color: #000080\">┃</span>                                                                                                                 <span style=\"color: #000080; text-decoration-color: #000080\">┃</span>\n<span style=\"color: #000080; text-decoration-color: #000080\">┃</span> This snapshot indicates a generally positive outlook from analysts but may also reflect mixed insights given    <span style=\"color: #000080; text-decoration-color: #000080\">┃</span>\n<span style=\"color: #000080; text-decoration-color: #000080\">┃</span> differing hold/sell suggestions.                                                                                <span style=\"color: #000080; text-decoration-color: #000080\">┃</span>\n<span style=\"color: #000080; text-decoration-color: #000080\">┃</span>                                                                                                                 <span style=\"color: #000080; text-decoration-color: #000080\">┃</span>\n<span style=\"color: #000080; text-decoration-color: #000080\">┃</span>                                            <span style=\"font-weight: bold\">Recent News and Articles</span>                                             <span style=\"color: #000080; text-decoration-color: #000080\">┃</span>\n<span style=\"color: #000080; text-decoration-color: #000080\">┃</span>                                                                                                                 <span style=\"color: #000080; text-decoration-color: #000080\">┃</span>\n<span style=\"color: #000080; text-decoration-color: #000080\">┃</span> <span style=\"color: #808000; text-decoration-color: #808000; font-weight: bold\"> 1 </span><span style=\"font-weight: bold\">Earnings and Revenue</span>: MongoDB posted better-than-expected earnings for its fiscal third quarter, with a 22%  <span style=\"color: #000080; text-decoration-color: #000080\">┃</span>\n<span style=\"color: #000080; text-decoration-color: #000080\">┃</span> <span style=\"color: #808000; text-decoration-color: #808000; font-weight: bold\">   </span>increase, achieving an adjusted $1.16 per share on sales of $529.4 million, surpassing forecasts.            <span style=\"color: #000080; text-decoration-color: #000080\">┃</span>\n<span style=\"color: #000080; text-decoration-color: #000080\">┃</span> <span style=\"color: #808000; text-decoration-color: #808000; font-weight: bold\"> 2 </span><span style=\"font-weight: bold\">Stock Market Activity</span>: Despite outstanding earnings, MongoDB's stock dropped by 17% recently after rising    <span style=\"color: #000080; text-decoration-color: #000080\">┃</span>\n<span style=\"color: #000080; text-decoration-color: #000080\">┃</span> <span style=\"color: #808000; text-decoration-color: #808000; font-weight: bold\">   </span>10%, largely due to volatility following an earlier rally and the announcement of CFO Michael Gordon's       <span style=\"color: #000080; text-decoration-color: #000080\">┃</span>\n<span style=\"color: #000080; text-decoration-color: #000080\">┃</span> <span style=\"color: #808000; text-decoration-color: #808000; font-weight: bold\">   </span>upcoming departure.                                                                                          <span style=\"color: #000080; text-decoration-color: #000080\">┃</span>\n<span style=\"color: #000080; text-decoration-color: #000080\">┃</span> <span style=\"color: #808000; text-decoration-color: #808000; font-weight: bold\"> 3 </span><span style=\"font-weight: bold\">Executive Changes</span>: Michael Gordon, CFO since 2015, is stepping down in January. Serge Tanjga, Senior VP of   <span style=\"color: #000080; text-decoration-color: #000080\">┃</span>\n<span style=\"color: #000080; text-decoration-color: #000080\">┃</span> <span style=\"color: #808000; text-decoration-color: #808000; font-weight: bold\">   </span>Finance, will assume interim CFO duties if no suitable replacement is identified.                            <span style=\"color: #000080; text-decoration-color: #000080\">┃</span>\n<span style=\"color: #000080; text-decoration-color: #000080\">┃</span> <span style=\"color: #808000; text-decoration-color: #808000; font-weight: bold\"> 4 </span><span style=\"font-weight: bold\">Strategic Initiatives</span>: MongoDB’s developer data platform remains key to its revenue, especially in areas     <span style=\"color: #000080; text-decoration-color: #000080\">┃</span>\n<span style=\"color: #000080; text-decoration-color: #000080\">┃</span> <span style=\"color: #808000; text-decoration-color: #808000; font-weight: bold\">   </span>like app modernization and AI.                                                                               <span style=\"color: #000080; text-decoration-color: #000080\">┃</span>\n<span style=\"color: #000080; text-decoration-color: #000080\">┃</span> <span style=\"color: #808000; text-decoration-color: #808000; font-weight: bold\"> 5 </span><span style=\"font-weight: bold\">Revenue Composition</span>: Revenue growth has been driven more by large deals in the Enterprise Advanced area      <span style=\"color: #000080; text-decoration-color: #000080\">┃</span>\n<span style=\"color: #000080; text-decoration-color: #000080\">┃</span> <span style=\"color: #808000; text-decoration-color: #808000; font-weight: bold\">   </span>rather than the Atlas cloud subscriptions, causing some mixed feelings among analysts.                       <span style=\"color: #000080; text-decoration-color: #000080\">┃</span>\n<span style=\"color: #000080; text-decoration-color: #000080\">┃</span> <span style=\"color: #808000; text-decoration-color: #808000; font-weight: bold\"> 6 </span><span style=\"font-weight: bold\">Stock Ratings</span>: MongoDB's IBD Composite Rating before these reports stood at 64 out of 99, with a Relative    <span style=\"color: #000080; text-decoration-color: #000080\">┃</span>\n<span style=\"color: #000080; text-decoration-color: #000080\">┃</span> <span style=\"color: #808000; text-decoration-color: #808000; font-weight: bold\">   </span>Strength Rating of 68.                                                                                       <span style=\"color: #000080; text-decoration-color: #000080\">┃</span>\n<span style=\"color: #000080; text-decoration-color: #000080\">┃</span>                                                                                                                 <span style=\"color: #000080; text-decoration-color: #000080\">┃</span>\n<span style=\"color: #000080; text-decoration-color: #000080\">┃</span>                                                     <span style=\"font-weight: bold\">Sources</span>                                                     <span style=\"color: #000080; text-decoration-color: #000080\">┃</span>\n<span style=\"color: #000080; text-decoration-color: #000080\">┃</span>                                                                                                                 <span style=\"color: #000080; text-decoration-color: #000080\">┃</span>\n<span style=\"color: #000080; text-decoration-color: #000080\">┃</span> <span style=\"color: #808000; text-decoration-color: #808000; font-weight: bold\"> • </span><span style=\"font-weight: bold\">Earnings Report</span>: Latest company financial releases.                                                          <span style=\"color: #000080; text-decoration-color: #000080\">┃</span>\n<span style=\"color: #000080; text-decoration-color: #000080\">┃</span> <span style=\"color: #808000; text-decoration-color: #808000; font-weight: bold\"> • </span><span style=\"font-weight: bold\">Stock Ratings</span>: Investor's Business Daily and other analysis platforms.                                       <span style=\"color: #000080; text-decoration-color: #000080\">┃</span>\n<span style=\"color: #000080; text-decoration-color: #000080\">┃</span>                                                                                                                 <span style=\"color: #000080; text-decoration-color: #000080\">┃</span>\n<span style=\"color: #000080; text-decoration-color: #000080\">┃</span> This assessment shows that while MongoDB is financially sound, executive transitions and revenue sources lead   <span style=\"color: #000080; text-decoration-color: #000080\">┃</span>\n<span style=\"color: #000080; text-decoration-color: #000080\">┃</span> to mixed market reactions.                                                                                      <span style=\"color: #000080; text-decoration-color: #000080\">┃</span>\n<span style=\"color: #000080; text-decoration-color: #000080\">┃</span>                                                                                                                 <span style=\"color: #000080; text-decoration-color: #000080\">┃</span>\n<span style=\"color: #000080; text-decoration-color: #000080\">┗━━━━━━━━━━━━━━━━━━━━━━━━━━━━━━━━━━━━━━━━━━━━━━━━━━━━━━━━━━━━━━━━━━━━━━━━━━━━━━━━━━━━━━━━━━━━━━━━━━━━━━━━━━━━━━━━━┛</span>\n</pre>\n",
          "text/plain": "\u001b[32m▰▰▱▱▱▱▱\u001b[0m Thinking...\n\u001b[36m┏━\u001b[0m\u001b[36m Message \u001b[0m\u001b[36m━━━━━━━━━━━━━━━━━━━━━━━━━━━━━━━━━━━━━━━━━━━━━━━━━━━━━━━━━━━━━━━━━━━━━━━━━━━━━━━━━━━━━━━━━━━━━━━━━━━━━━\u001b[0m\u001b[36m━┓\u001b[0m\n\u001b[36m┃\u001b[0m                                                                                                                 \u001b[36m┃\u001b[0m\n\u001b[36m┃\u001b[0m \u001b[32mHow is MongoDB doing? In terms of analysts and articles\u001b[0m                                                         \u001b[36m┃\u001b[0m\n\u001b[36m┃\u001b[0m                                                                                                                 \u001b[36m┃\u001b[0m\n\u001b[36m┗━━━━━━━━━━━━━━━━━━━━━━━━━━━━━━━━━━━━━━━━━━━━━━━━━━━━━━━━━━━━━━━━━━━━━━━━━━━━━━━━━━━━━━━━━━━━━━━━━━━━━━━━━━━━━━━━━┛\u001b[0m\n\u001b[34m┏━\u001b[0m\u001b[34m Response (26.9s) \u001b[0m\u001b[34m━━━━━━━━━━━━━━━━━━━━━━━━━━━━━━━━━━━━━━━━━━━━━━━━━━━━━━━━━━━━━━━━━━━━━━━━━━━━━━━━━━━━━━━━━━━━━\u001b[0m\u001b[34m━┓\u001b[0m\n\u001b[34m┃\u001b[0m                                                                                                                 \u001b[34m┃\u001b[0m\n\u001b[34m┃\u001b[0m Running:                                                                                                        \u001b[34m┃\u001b[0m\n\u001b[34m┃\u001b[0m                                                                                                                 \u001b[34m┃\u001b[0m\n\u001b[34m┃\u001b[0m \u001b[1;33m • \u001b[0mtransfer_task_to_agent_0(task_description=Fetch the latest analyst recommendations and stock price targets   \u001b[34m┃\u001b[0m\n\u001b[34m┃\u001b[0m \u001b[1;33m   \u001b[0mfor MongoDB (MDB)., expected_output=A summary of the latest analyst recommendations and price targets for    \u001b[34m┃\u001b[0m\n\u001b[34m┃\u001b[0m \u001b[1;33m   \u001b[0mMongoDB., additional_information=Focus on recent changes and consensus among analysts.)                      \u001b[34m┃\u001b[0m\n\u001b[34m┃\u001b[0m \u001b[1;33m • \u001b[0mtransfer_task_to_agent_1(task_description=..., expected_output=A summary of recent articles and news about   \u001b[34m┃\u001b[0m\n\u001b[34m┃\u001b[0m \u001b[1;33m   \u001b[0mMongoDB's market performance and strategic developments., additional_information=Include insights from       \u001b[34m┃\u001b[0m\n\u001b[34m┃\u001b[0m \u001b[1;33m   \u001b[0marticles published within the last 3 months.)                                                                \u001b[34m┃\u001b[0m\n\u001b[34m┃\u001b[0m                                                                                                                 \u001b[34m┃\u001b[0m\n\u001b[34m┃\u001b[0m Here's a comprehensive overview of MongoDB's current state based on analyst recommendations and recent news     \u001b[34m┃\u001b[0m\n\u001b[34m┃\u001b[0m articles:                                                                                                       \u001b[34m┃\u001b[0m\n\u001b[34m┃\u001b[0m                                                                                                                 \u001b[34m┃\u001b[0m\n\u001b[34m┃\u001b[0m                                             \u001b[1mAnalyst Recommendations\u001b[0m                                             \u001b[34m┃\u001b[0m\n\u001b[34m┃\u001b[0m                                                                                                                 \u001b[34m┃\u001b[0m\n\u001b[34m┃\u001b[0m MongoDB (MDB) has been receiving a variety of recommendations from analysts:                                    \u001b[34m┃\u001b[0m\n\u001b[34m┃\u001b[0m                                                                                                                 \u001b[34m┃\u001b[0m\n\u001b[34m┃\u001b[0m \u001b[1;33m • \u001b[0m\u001b[1mOverall Consensus\u001b[0m: There are strong buy and buy recommendations predominating, indicating positive sentiment \u001b[34m┃\u001b[0m\n\u001b[34m┃\u001b[0m \u001b[1;33m   \u001b[0mfrom analysts overall:                                                                                       \u001b[34m┃\u001b[0m\n\u001b[34m┃\u001b[0m \u001b[1;33m   \u001b[0m\u001b[1;33m • \u001b[0m\u001b[1mStrong Buy\u001b[0m: 9 to 10 recommendations over the last few time intervals.                                     \u001b[34m┃\u001b[0m\n\u001b[34m┃\u001b[0m \u001b[1;33m   \u001b[0m\u001b[1;33m • \u001b[0m\u001b[1mBuy\u001b[0m: 17 to 18 recommendations, showing consistent optimism.                                               \u001b[34m┃\u001b[0m\n\u001b[34m┃\u001b[0m \u001b[1;33m   \u001b[0m\u001b[1;33m • \u001b[0m\u001b[1mHold and Sell\u001b[0m: There are fewer hold and recent sell recommendations, suggesting varying individual        \u001b[34m┃\u001b[0m\n\u001b[34m┃\u001b[0m \u001b[1;33m   \u001b[0m\u001b[1;33m   \u001b[0mevaluations.                                                                                              \u001b[34m┃\u001b[0m\n\u001b[34m┃\u001b[0m \u001b[1;33m • \u001b[0m\u001b[1mStock Price Target\u001b[0m: The recent consensus price target is $245.00.                                            \u001b[34m┃\u001b[0m\n\u001b[34m┃\u001b[0m                                                                                                                 \u001b[34m┃\u001b[0m\n\u001b[34m┃\u001b[0m This snapshot indicates a generally positive outlook from analysts but may also reflect mixed insights given    \u001b[34m┃\u001b[0m\n\u001b[34m┃\u001b[0m differing hold/sell suggestions.                                                                                \u001b[34m┃\u001b[0m\n\u001b[34m┃\u001b[0m                                                                                                                 \u001b[34m┃\u001b[0m\n\u001b[34m┃\u001b[0m                                            \u001b[1mRecent News and Articles\u001b[0m                                             \u001b[34m┃\u001b[0m\n\u001b[34m┃\u001b[0m                                                                                                                 \u001b[34m┃\u001b[0m\n\u001b[34m┃\u001b[0m \u001b[1;33m 1 \u001b[0m\u001b[1mEarnings and Revenue\u001b[0m: MongoDB posted better-than-expected earnings for its fiscal third quarter, with a 22%  \u001b[34m┃\u001b[0m\n\u001b[34m┃\u001b[0m \u001b[1;33m   \u001b[0mincrease, achieving an adjusted $1.16 per share on sales of $529.4 million, surpassing forecasts.            \u001b[34m┃\u001b[0m\n\u001b[34m┃\u001b[0m \u001b[1;33m 2 \u001b[0m\u001b[1mStock Market Activity\u001b[0m: Despite outstanding earnings, MongoDB's stock dropped by 17% recently after rising    \u001b[34m┃\u001b[0m\n\u001b[34m┃\u001b[0m \u001b[1;33m   \u001b[0m10%, largely due to volatility following an earlier rally and the announcement of CFO Michael Gordon's       \u001b[34m┃\u001b[0m\n\u001b[34m┃\u001b[0m \u001b[1;33m   \u001b[0mupcoming departure.                                                                                          \u001b[34m┃\u001b[0m\n\u001b[34m┃\u001b[0m \u001b[1;33m 3 \u001b[0m\u001b[1mExecutive Changes\u001b[0m: Michael Gordon, CFO since 2015, is stepping down in January. Serge Tanjga, Senior VP of   \u001b[34m┃\u001b[0m\n\u001b[34m┃\u001b[0m \u001b[1;33m   \u001b[0mFinance, will assume interim CFO duties if no suitable replacement is identified.                            \u001b[34m┃\u001b[0m\n\u001b[34m┃\u001b[0m \u001b[1;33m 4 \u001b[0m\u001b[1mStrategic Initiatives\u001b[0m: MongoDB’s developer data platform remains key to its revenue, especially in areas     \u001b[34m┃\u001b[0m\n\u001b[34m┃\u001b[0m \u001b[1;33m   \u001b[0mlike app modernization and AI.                                                                               \u001b[34m┃\u001b[0m\n\u001b[34m┃\u001b[0m \u001b[1;33m 5 \u001b[0m\u001b[1mRevenue Composition\u001b[0m: Revenue growth has been driven more by large deals in the Enterprise Advanced area      \u001b[34m┃\u001b[0m\n\u001b[34m┃\u001b[0m \u001b[1;33m   \u001b[0mrather than the Atlas cloud subscriptions, causing some mixed feelings among analysts.                       \u001b[34m┃\u001b[0m\n\u001b[34m┃\u001b[0m \u001b[1;33m 6 \u001b[0m\u001b[1mStock Ratings\u001b[0m: MongoDB's IBD Composite Rating before these reports stood at 64 out of 99, with a Relative    \u001b[34m┃\u001b[0m\n\u001b[34m┃\u001b[0m \u001b[1;33m   \u001b[0mStrength Rating of 68.                                                                                       \u001b[34m┃\u001b[0m\n\u001b[34m┃\u001b[0m                                                                                                                 \u001b[34m┃\u001b[0m\n\u001b[34m┃\u001b[0m                                                     \u001b[1mSources\u001b[0m                                                     \u001b[34m┃\u001b[0m\n\u001b[34m┃\u001b[0m                                                                                                                 \u001b[34m┃\u001b[0m\n\u001b[34m┃\u001b[0m \u001b[1;33m • \u001b[0m\u001b[1mEarnings Report\u001b[0m: Latest company financial releases.                                                          \u001b[34m┃\u001b[0m\n\u001b[34m┃\u001b[0m \u001b[1;33m • \u001b[0m\u001b[1mStock Ratings\u001b[0m: Investor's Business Daily and other analysis platforms.                                       \u001b[34m┃\u001b[0m\n\u001b[34m┃\u001b[0m                                                                                                                 \u001b[34m┃\u001b[0m\n\u001b[34m┃\u001b[0m This assessment shows that while MongoDB is financially sound, executive transitions and revenue sources lead   \u001b[34m┃\u001b[0m\n\u001b[34m┃\u001b[0m to mixed market reactions.                                                                                      \u001b[34m┃\u001b[0m\n\u001b[34m┃\u001b[0m                                                                                                                 \u001b[34m┃\u001b[0m\n\u001b[34m┗━━━━━━━━━━━━━━━━━━━━━━━━━━━━━━━━━━━━━━━━━━━━━━━━━━━━━━━━━━━━━━━━━━━━━━━━━━━━━━━━━━━━━━━━━━━━━━━━━━━━━━━━━━━━━━━━━┛\u001b[0m\n"
         },
         "metadata": {},
         "output_type": "display_data"
        }
       ]
      }
     },
     "9f8b2282d290459f9536c445bb0f2568": {
      "model_module": "@jupyter-widgets/base",
      "model_module_version": "2.0.0",
      "model_name": "LayoutModel",
      "state": {}
     },
     "c3aadeea114c4e5e8943b8458072cced": {
      "model_module": "@jupyter-widgets/base",
      "model_module_version": "2.0.0",
      "model_name": "LayoutModel",
      "state": {}
     },
     "ea33b6659c764e68b8be6680a7d68dd8": {
      "model_module": "@jupyter-widgets/output",
      "model_module_version": "1.0.0",
      "model_name": "OutputModel",
      "state": {
       "layout": "IPY_MODEL_770c94b5b77a4346b451c89c13f569f1",
       "outputs": [
        {
         "data": {
          "text/html": "<pre style=\"white-space:pre;overflow-x:auto;line-height:normal;font-family:Menlo,'DejaVu Sans Mono',consolas,'Courier New',monospace\"><span style=\"color: #008000; text-decoration-color: #008000\">▰▱▱▱▱▱▱</span> Thinking...\n<span style=\"color: #008080; text-decoration-color: #008080\">┏━ Message ━━━━━━━━━━━━━━━━━━━━━━━━━━━━━━━━━━━━━━━━━━━━━━━━━━━━━━━━━━━━━━━━━━━━━━━━━━━━━━━━━━━━━━━━━━━━━━━━━━━━━━━┓</span>\n<span style=\"color: #008080; text-decoration-color: #008080\">┃</span>                                                                                                                 <span style=\"color: #008080; text-decoration-color: #008080\">┃</span>\n<span style=\"color: #008080; text-decoration-color: #008080\">┃</span>                                                                                                                 <span style=\"color: #008080; text-decoration-color: #008080\">┃</span>\n<span style=\"color: #008080; text-decoration-color: #008080\">┃</span> <span style=\"color: #008000; text-decoration-color: #008000\">  Tell me which of MDB and ESTC is a better pick.</span>                                                               <span style=\"color: #008080; text-decoration-color: #008080\">┃</span>\n<span style=\"color: #008080; text-decoration-color: #008080\">┃</span> <span style=\"color: #008000; text-decoration-color: #008000\">  Summarize and show me in tables.</span>                                                                              <span style=\"color: #008080; text-decoration-color: #008080\">┃</span>\n<span style=\"color: #008080; text-decoration-color: #008080\">┃</span> <span style=\"color: #008000; text-decoration-color: #008000\">  </span>                                                                                                              <span style=\"color: #008080; text-decoration-color: #008080\">┃</span>\n<span style=\"color: #008080; text-decoration-color: #008080\">┃</span>                                                                                                                 <span style=\"color: #008080; text-decoration-color: #008080\">┃</span>\n<span style=\"color: #008080; text-decoration-color: #008080\">┗━━━━━━━━━━━━━━━━━━━━━━━━━━━━━━━━━━━━━━━━━━━━━━━━━━━━━━━━━━━━━━━━━━━━━━━━━━━━━━━━━━━━━━━━━━━━━━━━━━━━━━━━━━━━━━━━━┛</span>\n<span style=\"color: #000080; text-decoration-color: #000080\">┏━ Response (10.1s) ━━━━━━━━━━━━━━━━━━━━━━━━━━━━━━━━━━━━━━━━━━━━━━━━━━━━━━━━━━━━━━━━━━━━━━━━━━━━━━━━━━━━━━━━━━━━━━┓</span>\n<span style=\"color: #000080; text-decoration-color: #000080\">┃</span>                                                                                                                 <span style=\"color: #000080; text-decoration-color: #000080\">┃</span>\n<span style=\"color: #000080; text-decoration-color: #000080\">┃</span> Running:                                                                                                        <span style=\"color: #000080; text-decoration-color: #000080\">┃</span>\n<span style=\"color: #000080; text-decoration-color: #000080\">┃</span>                                                                                                                 <span style=\"color: #000080; text-decoration-color: #000080\">┃</span>\n<span style=\"color: #000080; text-decoration-color: #000080\">┃</span> <span style=\"color: #808000; text-decoration-color: #808000; font-weight: bold\"> • </span>get_stock_fundamentals(symbol=MDB)                                                                           <span style=\"color: #000080; text-decoration-color: #000080\">┃</span>\n<span style=\"color: #000080; text-decoration-color: #000080\">┃</span> <span style=\"color: #808000; text-decoration-color: #808000; font-weight: bold\"> • </span>get_stock_fundamentals(symbol=ESTC)                                                                          <span style=\"color: #000080; text-decoration-color: #000080\">┃</span>\n<span style=\"color: #000080; text-decoration-color: #000080\">┃</span> <span style=\"color: #808000; text-decoration-color: #808000; font-weight: bold\"> • </span>get_analyst_recommendations(symbol=MDB)                                                                      <span style=\"color: #000080; text-decoration-color: #000080\">┃</span>\n<span style=\"color: #000080; text-decoration-color: #000080\">┃</span> <span style=\"color: #808000; text-decoration-color: #808000; font-weight: bold\"> • </span>get_analyst_recommendations(symbol=ESTC)                                                                     <span style=\"color: #000080; text-decoration-color: #000080\">┃</span>\n<span style=\"color: #000080; text-decoration-color: #000080\">┃</span>                                                                                                                 <span style=\"color: #000080; text-decoration-color: #000080\">┃</span>\n<span style=\"color: #000080; text-decoration-color: #000080\">┃</span> Here's a comparative summary of the fundamental data and analyst recommendations for MongoDB, Inc. (MDB) and    <span style=\"color: #000080; text-decoration-color: #000080\">┃</span>\n<span style=\"color: #000080; text-decoration-color: #000080\">┃</span> Elastic N.V. (ESTC):                                                                                            <span style=\"color: #000080; text-decoration-color: #000080\">┃</span>\n<span style=\"color: #000080; text-decoration-color: #000080\">┃</span>                                                                                                                 <span style=\"color: #000080; text-decoration-color: #000080\">┃</span>\n<span style=\"color: #000080; text-decoration-color: #000080\">┃</span>                                                <span style=\"font-weight: bold\">Fundamental Data</span>                                                 <span style=\"color: #000080; text-decoration-color: #000080\">┃</span>\n<span style=\"color: #000080; text-decoration-color: #000080\">┃</span>                                                                                                                 <span style=\"color: #000080; text-decoration-color: #000080\">┃</span>\n<span style=\"color: #000080; text-decoration-color: #000080\">┃</span>                                                                                                                 <span style=\"color: #000080; text-decoration-color: #000080\">┃</span>\n<span style=\"color: #000080; text-decoration-color: #000080\">┃</span>  <span style=\"font-weight: bold\"> Attribute      </span> <span style=\"font-weight: bold\"> MongoDB, Inc. (MDB)       </span> <span style=\"font-weight: bold\"> Elastic N.V. (ESTC)    </span>                                          <span style=\"color: #000080; text-decoration-color: #000080\">┃</span>\n<span style=\"color: #000080; text-decoration-color: #000080\">┃</span>  ━━━━━━━━━━━━━━━━━━━━━━━━━━━━━━━━━━━━━━━━━━━━━━━━━━━━━━━━━━━━━━━━━━━━━                                          <span style=\"color: #000080; text-decoration-color: #000080\">┃</span>\n<span style=\"color: #000080; text-decoration-color: #000080\">┃</span>   Company Name     MongoDB, Inc.               Elastic N.V.                                                     <span style=\"color: #000080; text-decoration-color: #000080\">┃</span>\n<span style=\"color: #000080; text-decoration-color: #000080\">┃</span>   Sector           Technology                  Technology                                                       <span style=\"color: #000080; text-decoration-color: #000080\">┃</span>\n<span style=\"color: #000080; text-decoration-color: #000080\">┃</span>   Industry         Software - Infrastructure   Software - Application                                           <span style=\"color: #000080; text-decoration-color: #000080\">┃</span>\n<span style=\"color: #000080; text-decoration-color: #000080\">┃</span>   Market Cap       $18.25 Billion              $10.75 Billion                                                   <span style=\"color: #000080; text-decoration-color: #000080\">┃</span>\n<span style=\"color: #000080; text-decoration-color: #000080\">┃</span>   PE Ratio         73.51                       52.77                                                            <span style=\"color: #000080; text-decoration-color: #000080\">┃</span>\n<span style=\"color: #000080; text-decoration-color: #000080\">┃</span>   PB Ratio         16.67                       14.29                                                            <span style=\"color: #000080; text-decoration-color: #000080\">┃</span>\n<span style=\"color: #000080; text-decoration-color: #000080\">┃</span>   Dividend Yield   N/A                         N/A                                                              <span style=\"color: #000080; text-decoration-color: #000080\">┃</span>\n<span style=\"color: #000080; text-decoration-color: #000080\">┃</span>   EPS              -2.74                       0.6                                                              <span style=\"color: #000080; text-decoration-color: #000080\">┃</span>\n<span style=\"color: #000080; text-decoration-color: #000080\">┃</span>   Beta             1.153                       0.943                                                            <span style=\"color: #000080; text-decoration-color: #000080\">┃</span>\n<span style=\"color: #000080; text-decoration-color: #000080\">┃</span>   52 Week High     $509.62                     $136.06                                                          <span style=\"color: #000080; text-decoration-color: #000080\">┃</span>\n<span style=\"color: #000080; text-decoration-color: #000080\">┃</span>   52 Week Low      $212.74                     $69.0                                                            <span style=\"color: #000080; text-decoration-color: #000080\">┃</span>\n<span style=\"color: #000080; text-decoration-color: #000080\">┃</span>                                                                                                                 <span style=\"color: #000080; text-decoration-color: #000080\">┃</span>\n<span style=\"color: #000080; text-decoration-color: #000080\">┃</span>                                                                                                                 <span style=\"color: #000080; text-decoration-color: #000080\">┃</span>\n<span style=\"color: #000080; text-decoration-color: #000080\">┃</span>                                     <span style=\"font-weight: bold\">Analyst Recommendations (Current Month)</span>                                     <span style=\"color: #000080; text-decoration-color: #000080\">┃</span>\n<span style=\"color: #000080; text-decoration-color: #000080\">┃</span>                                                                                                                 <span style=\"color: #000080; text-decoration-color: #000080\">┃</span>\n<span style=\"color: #000080; text-decoration-color: #000080\">┃</span>                                                                                                                 <span style=\"color: #000080; text-decoration-color: #000080\">┃</span>\n<span style=\"color: #000080; text-decoration-color: #000080\">┃</span>  <span style=\"font-weight: bold\"> Recommendation </span> <span style=\"font-weight: bold\"> MongoDB, Inc. (MDB) </span> <span style=\"font-weight: bold\"> Elastic N.V. (ESTC) </span>                                                   <span style=\"color: #000080; text-decoration-color: #000080\">┃</span>\n<span style=\"color: #000080; text-decoration-color: #000080\">┃</span>  ━━━━━━━━━━━━━━━━━━━━━━━━━━━━━━━━━━━━━━━━━━━━━━━━━━━━━━━━━━━━                                                   <span style=\"color: #000080; text-decoration-color: #000080\">┃</span>\n<span style=\"color: #000080; text-decoration-color: #000080\">┃</span>   Strong Buy       9                     7                                                                      <span style=\"color: #000080; text-decoration-color: #000080\">┃</span>\n<span style=\"color: #000080; text-decoration-color: #000080\">┃</span>   Buy              18                    14                                                                     <span style=\"color: #000080; text-decoration-color: #000080\">┃</span>\n<span style=\"color: #000080; text-decoration-color: #000080\">┃</span>   Hold             8                     7                                                                      <span style=\"color: #000080; text-decoration-color: #000080\">┃</span>\n<span style=\"color: #000080; text-decoration-color: #000080\">┃</span>   Sell             1                     0                                                                      <span style=\"color: #000080; text-decoration-color: #000080\">┃</span>\n<span style=\"color: #000080; text-decoration-color: #000080\">┃</span>   Strong Sell      0                     0                                                                      <span style=\"color: #000080; text-decoration-color: #000080\">┃</span>\n<span style=\"color: #000080; text-decoration-color: #000080\">┃</span>                                                                                                                 <span style=\"color: #000080; text-decoration-color: #000080\">┃</span>\n<span style=\"color: #000080; text-decoration-color: #000080\">┃</span>                                                                                                                 <span style=\"color: #000080; text-decoration-color: #000080\">┃</span>\n<span style=\"color: #000080; text-decoration-color: #000080\">┃</span>                                                     <span style=\"font-weight: bold\">Summary</span>                                                     <span style=\"color: #000080; text-decoration-color: #000080\">┃</span>\n<span style=\"color: #000080; text-decoration-color: #000080\">┃</span>                                                                                                                 <span style=\"color: #000080; text-decoration-color: #000080\">┃</span>\n<span style=\"color: #000080; text-decoration-color: #000080\">┃</span> <span style=\"color: #808000; text-decoration-color: #808000; font-weight: bold\"> • </span><span style=\"font-weight: bold\">MongoDB, Inc. (MDB)</span> has a higher market capitalization and is positioned in the \"Software - Infrastructure\"  <span style=\"color: #000080; text-decoration-color: #000080\">┃</span>\n<span style=\"color: #000080; text-decoration-color: #000080\">┃</span> <span style=\"color: #808000; text-decoration-color: #808000; font-weight: bold\">   </span>industry. It has a higher PE ratio, indicating possibly high growth expectations. However, it has a negative <span style=\"color: #000080; text-decoration-color: #000080\">┃</span>\n<span style=\"color: #000080; text-decoration-color: #000080\">┃</span> <span style=\"color: #808000; text-decoration-color: #808000; font-weight: bold\">   </span>EPS, suggesting unprofitability. Analyst sentiment shows a stronger inclination towards \"Buy\" and \"Strong    <span style=\"color: #000080; text-decoration-color: #000080\">┃</span>\n<span style=\"color: #000080; text-decoration-color: #000080\">┃</span> <span style=\"color: #808000; text-decoration-color: #808000; font-weight: bold\">   </span>Buy\".                                                                                                        <span style=\"color: #000080; text-decoration-color: #000080\">┃</span>\n<span style=\"color: #000080; text-decoration-color: #000080\">┃</span> <span style=\"color: #808000; text-decoration-color: #808000; font-weight: bold\"> • </span><span style=\"font-weight: bold\">Elastic N.V. (ESTC)</span> operates in the \"Software - Application\" sector with a lower market cap. It has a        <span style=\"color: #000080; text-decoration-color: #000080\">┃</span>\n<span style=\"color: #000080; text-decoration-color: #000080\">┃</span> <span style=\"color: #808000; text-decoration-color: #808000; font-weight: bold\">   </span>slightly lower PE ratio and a positive EPS, indicating profitability. It is generally viewed positively by   <span style=\"color: #000080; text-decoration-color: #000080\">┃</span>\n<span style=\"color: #000080; text-decoration-color: #000080\">┃</span> <span style=\"color: #808000; text-decoration-color: #808000; font-weight: bold\">   </span>analysts, with no \"Sell\" or \"Strong Sell\" recommendations.                                                   <span style=\"color: #000080; text-decoration-color: #000080\">┃</span>\n<span style=\"color: #000080; text-decoration-color: #000080\">┃</span>                                                                                                                 <span style=\"color: #000080; text-decoration-color: #000080\">┃</span>\n<span style=\"color: #000080; text-decoration-color: #000080\">┃</span>                                             <span style=\"font-weight: bold\">Decision Considerations</span>                                             <span style=\"color: #000080; text-decoration-color: #000080\">┃</span>\n<span style=\"color: #000080; text-decoration-color: #000080\">┃</span>                                                                                                                 <span style=\"color: #000080; text-decoration-color: #000080\">┃</span>\n<span style=\"color: #000080; text-decoration-color: #000080\">┃</span> <span style=\"color: #808000; text-decoration-color: #808000; font-weight: bold\"> • </span>If you are looking for high growth potential despite current unprofitability, MDB might be appealing.        <span style=\"color: #000080; text-decoration-color: #000080\">┃</span>\n<span style=\"color: #000080; text-decoration-color: #000080\">┃</span> <span style=\"color: #808000; text-decoration-color: #808000; font-weight: bold\"> • </span>If profitability and slightly lower risk are more important, ESTC may be the better choice, considering its  <span style=\"color: #000080; text-decoration-color: #000080\">┃</span>\n<span style=\"color: #000080; text-decoration-color: #000080\">┃</span> <span style=\"color: #808000; text-decoration-color: #808000; font-weight: bold\">   </span>positive EPS and safer Beta. Analysts also tilt positively towards both stocks.                              <span style=\"color: #000080; text-decoration-color: #000080\">┃</span>\n<span style=\"color: #000080; text-decoration-color: #000080\">┃</span>                                                                                                                 <span style=\"color: #000080; text-decoration-color: #000080\">┃</span>\n<span style=\"color: #000080; text-decoration-color: #000080\">┗━━━━━━━━━━━━━━━━━━━━━━━━━━━━━━━━━━━━━━━━━━━━━━━━━━━━━━━━━━━━━━━━━━━━━━━━━━━━━━━━━━━━━━━━━━━━━━━━━━━━━━━━━━━━━━━━━┛</span>\n</pre>\n",
          "text/plain": "\u001b[32m▰▱▱▱▱▱▱\u001b[0m Thinking...\n\u001b[36m┏━\u001b[0m\u001b[36m Message \u001b[0m\u001b[36m━━━━━━━━━━━━━━━━━━━━━━━━━━━━━━━━━━━━━━━━━━━━━━━━━━━━━━━━━━━━━━━━━━━━━━━━━━━━━━━━━━━━━━━━━━━━━━━━━━━━━━\u001b[0m\u001b[36m━┓\u001b[0m\n\u001b[36m┃\u001b[0m                                                                                                                 \u001b[36m┃\u001b[0m\n\u001b[36m┃\u001b[0m                                                                                                                 \u001b[36m┃\u001b[0m\n\u001b[36m┃\u001b[0m \u001b[32m  Tell me which of MDB and ESTC is a better pick.\u001b[0m                                                               \u001b[36m┃\u001b[0m\n\u001b[36m┃\u001b[0m \u001b[32m  Summarize and show me in tables.\u001b[0m                                                                              \u001b[36m┃\u001b[0m\n\u001b[36m┃\u001b[0m \u001b[32m  \u001b[0m                                                                                                              \u001b[36m┃\u001b[0m\n\u001b[36m┃\u001b[0m                                                                                                                 \u001b[36m┃\u001b[0m\n\u001b[36m┗━━━━━━━━━━━━━━━━━━━━━━━━━━━━━━━━━━━━━━━━━━━━━━━━━━━━━━━━━━━━━━━━━━━━━━━━━━━━━━━━━━━━━━━━━━━━━━━━━━━━━━━━━━━━━━━━━┛\u001b[0m\n\u001b[34m┏━\u001b[0m\u001b[34m Response (10.1s) \u001b[0m\u001b[34m━━━━━━━━━━━━━━━━━━━━━━━━━━━━━━━━━━━━━━━━━━━━━━━━━━━━━━━━━━━━━━━━━━━━━━━━━━━━━━━━━━━━━━━━━━━━━\u001b[0m\u001b[34m━┓\u001b[0m\n\u001b[34m┃\u001b[0m                                                                                                                 \u001b[34m┃\u001b[0m\n\u001b[34m┃\u001b[0m Running:                                                                                                        \u001b[34m┃\u001b[0m\n\u001b[34m┃\u001b[0m                                                                                                                 \u001b[34m┃\u001b[0m\n\u001b[34m┃\u001b[0m \u001b[1;33m • \u001b[0mget_stock_fundamentals(symbol=MDB)                                                                           \u001b[34m┃\u001b[0m\n\u001b[34m┃\u001b[0m \u001b[1;33m • \u001b[0mget_stock_fundamentals(symbol=ESTC)                                                                          \u001b[34m┃\u001b[0m\n\u001b[34m┃\u001b[0m \u001b[1;33m • \u001b[0mget_analyst_recommendations(symbol=MDB)                                                                      \u001b[34m┃\u001b[0m\n\u001b[34m┃\u001b[0m \u001b[1;33m • \u001b[0mget_analyst_recommendations(symbol=ESTC)                                                                     \u001b[34m┃\u001b[0m\n\u001b[34m┃\u001b[0m                                                                                                                 \u001b[34m┃\u001b[0m\n\u001b[34m┃\u001b[0m Here's a comparative summary of the fundamental data and analyst recommendations for MongoDB, Inc. (MDB) and    \u001b[34m┃\u001b[0m\n\u001b[34m┃\u001b[0m Elastic N.V. (ESTC):                                                                                            \u001b[34m┃\u001b[0m\n\u001b[34m┃\u001b[0m                                                                                                                 \u001b[34m┃\u001b[0m\n\u001b[34m┃\u001b[0m                                                \u001b[1mFundamental Data\u001b[0m                                                 \u001b[34m┃\u001b[0m\n\u001b[34m┃\u001b[0m                                                                                                                 \u001b[34m┃\u001b[0m\n\u001b[34m┃\u001b[0m                                                                                                                 \u001b[34m┃\u001b[0m\n\u001b[34m┃\u001b[0m  \u001b[1m \u001b[0m\u001b[1mAttribute\u001b[0m\u001b[1m     \u001b[0m\u001b[1m \u001b[0m \u001b[1m \u001b[0m\u001b[1mMongoDB, Inc. (MDB)\u001b[0m\u001b[1m      \u001b[0m\u001b[1m \u001b[0m \u001b[1m \u001b[0m\u001b[1mElastic N.V. (ESTC)\u001b[0m\u001b[1m   \u001b[0m\u001b[1m \u001b[0m                                          \u001b[34m┃\u001b[0m\n\u001b[34m┃\u001b[0m  ━━━━━━━━━━━━━━━━━━━━━━━━━━━━━━━━━━━━━━━━━━━━━━━━━━━━━━━━━━━━━━━━━━━━━                                          \u001b[34m┃\u001b[0m\n\u001b[34m┃\u001b[0m   Company Name     MongoDB, Inc.               Elastic N.V.                                                     \u001b[34m┃\u001b[0m\n\u001b[34m┃\u001b[0m   Sector           Technology                  Technology                                                       \u001b[34m┃\u001b[0m\n\u001b[34m┃\u001b[0m   Industry         Software - Infrastructure   Software - Application                                           \u001b[34m┃\u001b[0m\n\u001b[34m┃\u001b[0m   Market Cap       $18.25 Billion              $10.75 Billion                                                   \u001b[34m┃\u001b[0m\n\u001b[34m┃\u001b[0m   PE Ratio         73.51                       52.77                                                            \u001b[34m┃\u001b[0m\n\u001b[34m┃\u001b[0m   PB Ratio         16.67                       14.29                                                            \u001b[34m┃\u001b[0m\n\u001b[34m┃\u001b[0m   Dividend Yield   N/A                         N/A                                                              \u001b[34m┃\u001b[0m\n\u001b[34m┃\u001b[0m   EPS              -2.74                       0.6                                                              \u001b[34m┃\u001b[0m\n\u001b[34m┃\u001b[0m   Beta             1.153                       0.943                                                            \u001b[34m┃\u001b[0m\n\u001b[34m┃\u001b[0m   52 Week High     $509.62                     $136.06                                                          \u001b[34m┃\u001b[0m\n\u001b[34m┃\u001b[0m   52 Week Low      $212.74                     $69.0                                                            \u001b[34m┃\u001b[0m\n\u001b[34m┃\u001b[0m                                                                                                                 \u001b[34m┃\u001b[0m\n\u001b[34m┃\u001b[0m                                                                                                                 \u001b[34m┃\u001b[0m\n\u001b[34m┃\u001b[0m                                     \u001b[1mAnalyst Recommendations (Current Month)\u001b[0m                                     \u001b[34m┃\u001b[0m\n\u001b[34m┃\u001b[0m                                                                                                                 \u001b[34m┃\u001b[0m\n\u001b[34m┃\u001b[0m                                                                                                                 \u001b[34m┃\u001b[0m\n\u001b[34m┃\u001b[0m  \u001b[1m \u001b[0m\u001b[1mRecommendation\u001b[0m\u001b[1m \u001b[0m \u001b[1m \u001b[0m\u001b[1mMongoDB, Inc. (MDB)\u001b[0m\u001b[1m \u001b[0m \u001b[1m \u001b[0m\u001b[1mElastic N.V. (ESTC)\u001b[0m\u001b[1m \u001b[0m                                                   \u001b[34m┃\u001b[0m\n\u001b[34m┃\u001b[0m  ━━━━━━━━━━━━━━━━━━━━━━━━━━━━━━━━━━━━━━━━━━━━━━━━━━━━━━━━━━━━                                                   \u001b[34m┃\u001b[0m\n\u001b[34m┃\u001b[0m   Strong Buy       9                     7                                                                      \u001b[34m┃\u001b[0m\n\u001b[34m┃\u001b[0m   Buy              18                    14                                                                     \u001b[34m┃\u001b[0m\n\u001b[34m┃\u001b[0m   Hold             8                     7                                                                      \u001b[34m┃\u001b[0m\n\u001b[34m┃\u001b[0m   Sell             1                     0                                                                      \u001b[34m┃\u001b[0m\n\u001b[34m┃\u001b[0m   Strong Sell      0                     0                                                                      \u001b[34m┃\u001b[0m\n\u001b[34m┃\u001b[0m                                                                                                                 \u001b[34m┃\u001b[0m\n\u001b[34m┃\u001b[0m                                                                                                                 \u001b[34m┃\u001b[0m\n\u001b[34m┃\u001b[0m                                                     \u001b[1mSummary\u001b[0m                                                     \u001b[34m┃\u001b[0m\n\u001b[34m┃\u001b[0m                                                                                                                 \u001b[34m┃\u001b[0m\n\u001b[34m┃\u001b[0m \u001b[1;33m • \u001b[0m\u001b[1mMongoDB, Inc. (MDB)\u001b[0m has a higher market capitalization and is positioned in the \"Software - Infrastructure\"  \u001b[34m┃\u001b[0m\n\u001b[34m┃\u001b[0m \u001b[1;33m   \u001b[0mindustry. It has a higher PE ratio, indicating possibly high growth expectations. However, it has a negative \u001b[34m┃\u001b[0m\n\u001b[34m┃\u001b[0m \u001b[1;33m   \u001b[0mEPS, suggesting unprofitability. Analyst sentiment shows a stronger inclination towards \"Buy\" and \"Strong    \u001b[34m┃\u001b[0m\n\u001b[34m┃\u001b[0m \u001b[1;33m   \u001b[0mBuy\".                                                                                                        \u001b[34m┃\u001b[0m\n\u001b[34m┃\u001b[0m \u001b[1;33m • \u001b[0m\u001b[1mElastic N.V. (ESTC)\u001b[0m operates in the \"Software - Application\" sector with a lower market cap. It has a        \u001b[34m┃\u001b[0m\n\u001b[34m┃\u001b[0m \u001b[1;33m   \u001b[0mslightly lower PE ratio and a positive EPS, indicating profitability. It is generally viewed positively by   \u001b[34m┃\u001b[0m\n\u001b[34m┃\u001b[0m \u001b[1;33m   \u001b[0manalysts, with no \"Sell\" or \"Strong Sell\" recommendations.                                                   \u001b[34m┃\u001b[0m\n\u001b[34m┃\u001b[0m                                                                                                                 \u001b[34m┃\u001b[0m\n\u001b[34m┃\u001b[0m                                             \u001b[1mDecision Considerations\u001b[0m                                             \u001b[34m┃\u001b[0m\n\u001b[34m┃\u001b[0m                                                                                                                 \u001b[34m┃\u001b[0m\n\u001b[34m┃\u001b[0m \u001b[1;33m • \u001b[0mIf you are looking for high growth potential despite current unprofitability, MDB might be appealing.        \u001b[34m┃\u001b[0m\n\u001b[34m┃\u001b[0m \u001b[1;33m • \u001b[0mIf profitability and slightly lower risk are more important, ESTC may be the better choice, considering its  \u001b[34m┃\u001b[0m\n\u001b[34m┃\u001b[0m \u001b[1;33m   \u001b[0mpositive EPS and safer Beta. Analysts also tilt positively towards both stocks.                              \u001b[34m┃\u001b[0m\n\u001b[34m┃\u001b[0m                                                                                                                 \u001b[34m┃\u001b[0m\n\u001b[34m┗━━━━━━━━━━━━━━━━━━━━━━━━━━━━━━━━━━━━━━━━━━━━━━━━━━━━━━━━━━━━━━━━━━━━━━━━━━━━━━━━━━━━━━━━━━━━━━━━━━━━━━━━━━━━━━━━━┛\u001b[0m\n"
         },
         "metadata": {},
         "output_type": "display_data"
        }
       ]
      }
     },
     "f24223f43a6b4c3aadfad379f2ce1237": {
      "model_module": "@jupyter-widgets/base",
      "model_module_version": "2.0.0",
      "model_name": "LayoutModel",
      "state": {}
     }
    },
    "version_major": 2,
    "version_minor": 0
   }
  }
 },
 "nbformat": 4,
 "nbformat_minor": 5
}
