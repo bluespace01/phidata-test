{
 "cells": [
  {
   "cell_type": "markdown",
   "id": "325e0ef2",
   "metadata": {},
   "source": [
    "# Adding memory to a PhiData agent"
   ]
  },
  {
   "cell_type": "markdown",
   "id": "1f616b5a",
   "metadata": {},
   "source": [
    "## Creating a finance agent"
   ]
  },
  {
   "cell_type": "code",
   "execution_count": 1,
   "id": "6abee8b0",
   "metadata": {},
   "outputs": [],
   "source": [
    "from phi.agent import Agent\n",
    "from phi.model.openai import OpenAIChat\n",
    "from phi.tools.yfinance import YFinanceTools"
   ]
  },
  {
   "cell_type": "code",
   "execution_count": 2,
   "id": "8a91d16c",
   "metadata": {},
   "outputs": [],
   "source": [
    "agent = Agent(\n",
    "  model=OpenAIChat(id=\"gpt-4o\"),\n",
    "  tools=[YFinanceTools(\n",
    "    stock_price=True, \n",
    "    analyst_recommendations=True, \n",
    "    stock_fundamentals=True\n",
    "  )],\n",
    "  instructions=\"Use tables to display data.\",\n",
    "  show_tool_calls=True, markdown=True,\n",
    ")"
   ]
  },
  {
   "cell_type": "code",
   "execution_count": 3,
   "id": "c08d7a7c",
   "metadata": {},
   "outputs": [
    {
     "data": {
      "application/vnd.jupyter.widget-view+json": {
       "model_id": "594b35e0b86a4c559d3ff3af32408112",
       "version_major": 2,
       "version_minor": 0
      },
      "text/plain": [
       "Output()"
      ]
     },
     "metadata": {},
     "output_type": "display_data"
    },
    {
     "data": {
      "text/html": [
       "<pre style=\"white-space:pre;overflow-x:auto;line-height:normal;font-family:Menlo,'DejaVu Sans Mono',consolas,'Courier New',monospace\"></pre>\n"
      ],
      "text/plain": []
     },
     "metadata": {},
     "output_type": "display_data"
    }
   ],
   "source": [
    "agent.print_response(\n",
    "  message=\"\"\"\n",
    "  Tell me which of MDB and ESTC is a better pick.\n",
    "  \"\"\",\n",
    "  stream=True\n",
    ")"
   ]
  },
  {
   "cell_type": "code",
   "execution_count": 4,
   "id": "aaf13b5b",
   "metadata": {},
   "outputs": [
    {
     "data": {
      "application/vnd.jupyter.widget-view+json": {
       "model_id": "8912c084b44f4352bd5bbbb9e4a46050",
       "version_major": 2,
       "version_minor": 0
      },
      "text/plain": [
       "Output()"
      ]
     },
     "metadata": {},
     "output_type": "display_data"
    },
    {
     "data": {
      "text/html": [
       "<pre style=\"white-space:pre;overflow-x:auto;line-height:normal;font-family:Menlo,'DejaVu Sans Mono',consolas,'Courier New',monospace\"></pre>\n"
      ],
      "text/plain": []
     },
     "metadata": {},
     "output_type": "display_data"
    }
   ],
   "source": [
    "agent.print_response(\n",
    "  message=\"\"\"\n",
    "  What do you think of ESTC's 52 week highs and lows?\n",
    "  \"\"\",\n",
    "  stream=True\n",
    ")"
   ]
  },
  {
   "cell_type": "markdown",
   "id": "7dcac33e",
   "metadata": {},
   "source": [
    "## Adding chat history memory"
   ]
  },
  {
   "cell_type": "code",
   "execution_count": 6,
   "id": "5b5b5ffa",
   "metadata": {},
   "outputs": [],
   "source": [
    "from phi.storage.agent.sqlite import SqlAgentStorage"
   ]
  },
  {
   "cell_type": "code",
   "execution_count": 7,
   "id": "7ede0e1c",
   "metadata": {},
   "outputs": [],
   "source": [
    "agent = Agent(\n",
    "  model=OpenAIChat(id=\"gpt-4o\"),\n",
    "  tools=[YFinanceTools(\n",
    "    stock_price=True, \n",
    "    analyst_recommendations=True, \n",
    "    stock_fundamentals=True\n",
    "  )],\n",
    "  instructions=\"Use tables to display data.\",\n",
    "  show_tool_calls=True, markdown=True,\n",
    "  add_history_to_messages=True,\n",
    "  storage=SqlAgentStorage(\n",
    "    table_name=\"agent_sessions\", db_file=\"tmp/agent_storage.db\"\n",
    "  ),\n",
    ")"
   ]
  },
  {
   "cell_type": "code",
   "execution_count": 8,
   "id": "75b7c1b4",
   "metadata": {},
   "outputs": [
    {
     "data": {
      "application/vnd.jupyter.widget-view+json": {
       "model_id": "679c074cd7504c98b2381f27172e4090",
       "version_major": 2,
       "version_minor": 0
      },
      "text/plain": [
       "Output()"
      ]
     },
     "metadata": {},
     "output_type": "display_data"
    },
    {
     "data": {
      "text/html": [
       "<pre style=\"white-space:pre;overflow-x:auto;line-height:normal;font-family:Menlo,'DejaVu Sans Mono',consolas,'Courier New',monospace\"></pre>\n"
      ],
      "text/plain": []
     },
     "metadata": {},
     "output_type": "display_data"
    }
   ],
   "source": [
    "agent.print_response(\n",
    "  message=\"\"\"\n",
    "  Tell me which of MDB and ESTC is a better pick.\n",
    "  \"\"\",\n",
    "  stream=True\n",
    ")"
   ]
  },
  {
   "cell_type": "code",
   "execution_count": 9,
   "id": "5e12be9e",
   "metadata": {},
   "outputs": [
    {
     "data": {
      "application/vnd.jupyter.widget-view+json": {
       "model_id": "563d05abd8c14b30be34baacaaf32503",
       "version_major": 2,
       "version_minor": 0
      },
      "text/plain": [
       "Output()"
      ]
     },
     "metadata": {},
     "output_type": "display_data"
    },
    {
     "data": {
      "text/html": [
       "<pre style=\"white-space:pre;overflow-x:auto;line-height:normal;font-family:Menlo,'DejaVu Sans Mono',consolas,'Courier New',monospace\"></pre>\n"
      ],
      "text/plain": []
     },
     "metadata": {},
     "output_type": "display_data"
    }
   ],
   "source": [
    "agent.print_response(\n",
    "  message=\"\"\"\n",
    "  What do you think of ESTC's 52 week highs and lows?\n",
    "  \"\"\",\n",
    "  stream=True\n",
    ")"
   ]
  },
  {
   "cell_type": "markdown",
   "id": "516d8819",
   "metadata": {},
   "source": [
    "## Adding user memories"
   ]
  },
  {
   "cell_type": "code",
   "execution_count": 11,
   "id": "80574691",
   "metadata": {},
   "outputs": [],
   "source": [
    "from phi.agent import AgentMemory\n",
    "from phi.memory.db.sqlite import SqliteMemoryDb"
   ]
  },
  {
   "cell_type": "code",
   "execution_count": 12,
   "id": "ad12a479",
   "metadata": {},
   "outputs": [],
   "source": [
    "agent = Agent(\n",
    "  model=OpenAIChat(id=\"gpt-4o\"),\n",
    "  tools=[YFinanceTools(\n",
    "    stock_price=True, \n",
    "    analyst_recommendations=True, \n",
    "    stock_fundamentals=True\n",
    "  )],\n",
    "  instructions=\"Use tables to display data.\",\n",
    "  show_tool_calls=True, markdown=True,\n",
    "  add_history_to_messages=True,\n",
    "  storage=SqlAgentStorage(\n",
    "    table_name=\"agent_sessions\", db_file=\"tmp/agent_storage.db\"\n",
    "  ),\n",
    "  memory=AgentMemory(\n",
    "    db=SqliteMemoryDb(\n",
    "      table_name=\"agent_memory\", db_file=\"tmp/agent_memory.db\",\n",
    "    ),\n",
    "    create_user_memories=True, update_user_memories_after_run=True,\n",
    "  ),\n",
    "  user_id=\"john_billings\",\n",
    ")"
   ]
  },
  {
   "cell_type": "code",
   "execution_count": 13,
   "id": "ec5d3c69",
   "metadata": {},
   "outputs": [
    {
     "data": {
      "application/vnd.jupyter.widget-view+json": {
       "model_id": "fb67e7c6fdf8411db76408e39b2f58ed",
       "version_major": 2,
       "version_minor": 0
      },
      "text/plain": [
       "Output()"
      ]
     },
     "metadata": {},
     "output_type": "display_data"
    },
    {
     "data": {
      "text/html": [
       "<pre style=\"white-space:pre;overflow-x:auto;line-height:normal;font-family:Menlo,'DejaVu Sans Mono',consolas,'Courier New',monospace\"></pre>\n"
      ],
      "text/plain": []
     },
     "metadata": {},
     "output_type": "display_data"
    }
   ],
   "source": [
    "agent.print_response(\n",
    "  message=\"\"\"\n",
    "  My name is Mark and I have the following holdings:\n",
    "  10,000 of SNOW\n",
    "  2,000 of MDB\n",
    "  4,500 of DDOG\n",
    "  \"\"\",\n",
    "  stream=True\n",
    ")"
   ]
  },
  {
   "cell_type": "code",
   "execution_count": 14,
   "id": "662026ad",
   "metadata": {},
   "outputs": [
    {
     "data": {
      "text/html": [
       "<pre style=\"white-space:pre;overflow-x:auto;line-height:normal;font-family:Menlo,'DejaVu Sans Mono',consolas,'Courier New',monospace\"></pre>\n"
      ],
      "text/plain": []
     },
     "metadata": {},
     "output_type": "display_data"
    },
    {
     "data": {
      "text/plain": [
       "\n",
       "\u001b[1m[\u001b[0m\n",
       "    \u001b[1;35mMemory\u001b[0m\u001b[1m(\u001b[0m\n",
       "        \u001b[33mmemory\u001b[0m=\u001b[32m'Mark holds 10,000 shares of SNOW, 2,000 shares of MDB, and 4,500 shares of DDOG.'\u001b[0m,\n",
       "        \u001b[33mid\u001b[0m=\u001b[3;35mNone\u001b[0m,\n",
       "        \u001b[33mtopic\u001b[0m=\u001b[3;35mNone\u001b[0m,\n",
       "        \u001b[33minput\u001b[0m=\u001b[32m\"User\u001b[0m\u001b[32m's name is Mark and he holds the following stocks: 10,000 of SNOW, 2,000 of MDB, and 4,500 of DDOG.\"\u001b[0m\n",
       "    \u001b[1m)\u001b[0m\n",
       "\u001b[1m]\u001b[0m"
      ]
     },
     "execution_count": 14,
     "metadata": {},
     "output_type": "execute_result"
    }
   ],
   "source": [
    "agent.memory.memories"
   ]
  },
  {
   "cell_type": "code",
   "execution_count": 15,
   "id": "ff7814c1",
   "metadata": {},
   "outputs": [
    {
     "data": {
      "application/vnd.jupyter.widget-view+json": {
       "model_id": "621f3adf6da240a49aa65541a15f6b3e",
       "version_major": 2,
       "version_minor": 0
      },
      "text/plain": [
       "Output()"
      ]
     },
     "metadata": {},
     "output_type": "display_data"
    },
    {
     "data": {
      "text/html": [
       "<pre style=\"white-space:pre;overflow-x:auto;line-height:normal;font-family:Menlo,'DejaVu Sans Mono',consolas,'Courier New',monospace\"></pre>\n"
      ],
      "text/plain": []
     },
     "metadata": {},
     "output_type": "display_data"
    }
   ],
   "source": [
    "agent.print_response(\n",
    "  message=\"\"\"\n",
    "  What's the current valuation of my portfolio?\n",
    "  \"\"\",\n",
    "  stream=True\n",
    ")"
   ]
  }
 ],
 "metadata": {
  "kernelspec": {
   "display_name": "Python 3 (ipykernel)",
   "language": "python",
   "name": "python3"
  },
  "language_info": {
   "codemirror_mode": {
    "name": "ipython",
    "version": 3
   },
   "file_extension": ".py",
   "mimetype": "text/x-python",
   "name": "python",
   "nbconvert_exporter": "python",
   "pygments_lexer": "ipython3",
   "version": "3.10.12"
  }
 },
 "nbformat": 4,
 "nbformat_minor": 5
}
